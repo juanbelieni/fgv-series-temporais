{
 "cells": [
  {
   "cell_type": "markdown",
   "id": "faf80568-84f6-4eb6-afe6-70cc20b87523",
   "metadata": {},
   "source": [
    "# Trabalho de Séries Temporais (A2)\n",
    "\n",
    "**Grupo:**\n",
    "- Amanda Perez\n",
    "- Eduardo Adame\n",
    "- Juan Belieni\n",
    "- Kayo Yokoyama\n",
    "- Lucas Westfal"
   ]
  },
  {
   "cell_type": "markdown",
   "metadata": {},
   "source": [
    "Para este trabalho, foram testados os seguintes modelos:\n",
    "| Modelo |  Val MSE | Test MAE | Epochs |\n",
    "| --- | --- | --- | --- |\n",
    "| Feedforward | 9.52 | 2.57 | 25 |\n",
    "| 1D CNN | 9.36 | 2.57 | 18 |\n",
    "| RNN with LSTM | 9.11 | 2.56 | 46 |\n",
    "| RNN with LSTM cell and recurrent dropout | 9.12 | 2.51 | 34 |\n",
    "| RNN with GRU | 9.09 | 2.51 | 41 |\n",
    "| RNN with GRU cell and recurrent dropout | 9.54 | 2.51 | 37\n",
    "| Stacked RNN layers | 9.56 | 2.56 | 37 |\n",
    "| Stacked RNN using GRU | 9.09 | 2.51 | 41 |\n",
    "| Transformer | 9.46 | 2. 51 | 21 |"
   ]
  },
  {
   "cell_type": "markdown",
   "id": "dc28e885-325e-43d6-a24d-09acebf72234",
   "metadata": {
    "id": "dc28e885-325e-43d6-a24d-09acebf72234"
   },
   "source": [
    "## References"
   ]
  },
  {
   "cell_type": "markdown",
   "id": "8d7f8ebe-43f9-48d3-b6d2-eebb87702b31",
   "metadata": {
    "id": "8d7f8ebe-43f9-48d3-b6d2-eebb87702b31"
   },
   "source": [
    "* Deep Learning with python, second edition. Chapter 10."
   ]
  },
  {
   "cell_type": "markdown",
   "id": "bbd07e07-675e-4047-bdb8-e543d8b23e34",
   "metadata": {
    "id": "bbd07e07-675e-4047-bdb8-e543d8b23e34"
   },
   "source": [
    "## Install libraries"
   ]
  },
  {
   "cell_type": "code",
   "execution_count": null,
   "id": "7623941e-b49e-4b9c-9a05-b06202d204bb",
   "metadata": {
    "id": "7623941e-b49e-4b9c-9a05-b06202d204bb"
   },
   "outputs": [],
   "source": [
    "!pip3 install -q tensorflow keras"
   ]
  },
  {
   "cell_type": "markdown",
   "id": "j7xoo3rzsC55",
   "metadata": {
    "id": "j7xoo3rzsC55"
   },
   "source": [
    "## Import Libraries\n"
   ]
  },
  {
   "cell_type": "code",
   "execution_count": 1,
   "id": "31OQveGGsHNc",
   "metadata": {
    "id": "31OQveGGsHNc"
   },
   "outputs": [
    {
     "name": "stderr",
     "output_type": "stream",
     "text": [
      "2023-12-05 19:12:17.347653: I tensorflow/core/util/port.cc:113] oneDNN custom operations are on. You may see slightly different numerical results due to floating-point round-off errors from different computation orders. To turn them off, set the environment variable `TF_ENABLE_ONEDNN_OPTS=0`.\n",
      "2023-12-05 19:12:17.368268: E external/local_xla/xla/stream_executor/cuda/cuda_dnn.cc:9261] Unable to register cuDNN factory: Attempting to register factory for plugin cuDNN when one has already been registered\n",
      "2023-12-05 19:12:17.368284: E external/local_xla/xla/stream_executor/cuda/cuda_fft.cc:607] Unable to register cuFFT factory: Attempting to register factory for plugin cuFFT when one has already been registered\n",
      "2023-12-05 19:12:17.368865: E external/local_xla/xla/stream_executor/cuda/cuda_blas.cc:1515] Unable to register cuBLAS factory: Attempting to register factory for plugin cuBLAS when one has already been registered\n",
      "2023-12-05 19:12:17.372459: I tensorflow/core/platform/cpu_feature_guard.cc:182] This TensorFlow binary is optimized to use available CPU instructions in performance-critical operations.\n",
      "To enable the following instructions: AVX2 AVX_VNNI FMA, in other operations, rebuild TensorFlow with the appropriate compiler flags.\n",
      "2023-12-05 19:12:17.793126: W tensorflow/compiler/tf2tensorrt/utils/py_utils.cc:38] TF-TRT Warning: Could not find TensorRT\n"
     ]
    }
   ],
   "source": [
    "import os\n",
    "from tensorflow import keras\n",
    "from keras.models import Sequential\n",
    "from keras import layers\n",
    "from keras.optimizers import RMSprop\n",
    "from tensorflow.keras.callbacks import EarlyStopping, ModelCheckpoint\n",
    "import tensorflow as tf\n",
    "import matplotlib.pyplot as plt\n",
    "import numpy as np"
   ]
  },
  {
   "cell_type": "markdown",
   "id": "58330182-e029-40b8-88ca-acc21b23b732",
   "metadata": {
    "id": "58330182-e029-40b8-88ca-acc21b23b732"
   },
   "source": [
    "## Data"
   ]
  },
  {
   "cell_type": "markdown",
   "id": "93f678b8-72ab-4d1c-98d0-b19b4fa09774",
   "metadata": {
    "id": "93f678b8-72ab-4d1c-98d0-b19b4fa09774"
   },
   "source": [
    "### Download"
   ]
  },
  {
   "cell_type": "code",
   "execution_count": 2,
   "id": "79ba3f1e-22f8-4a13-8440-140a73800c7c",
   "metadata": {
    "colab": {
     "base_uri": "https://localhost:8080/"
    },
    "id": "79ba3f1e-22f8-4a13-8440-140a73800c7c",
    "outputId": "aeed17a2-25f4-4c9e-f924-7dc83adeca12"
   },
   "outputs": [
    {
     "name": "stdout",
     "output_type": "stream",
     "text": [
      "--2023-12-05 19:12:23--  https://s3.amazonaws.com/keras-datasets/jena_climate_2009_2016.csv.zip\n",
      "Resolvendo s3.amazonaws.com (s3.amazonaws.com)... 16.182.42.152, 52.217.203.88, 54.231.230.176, ...\n",
      "Conectando-se a s3.amazonaws.com (s3.amazonaws.com)|16.182.42.152|:443... conectado.\n",
      "A requisição HTTP foi enviada, aguardando resposta... 200 OK\n",
      "Tamanho: 13565642 (13M) [application/zip]\n",
      "Salvando em: ‘jena_climate_2009_2016.csv.zip’\n",
      "\n",
      "jena_climate_2009_2 100%[===================>]  12,94M  8,46MB/s    em 1,5s    \n",
      "\n",
      "2023-12-05 19:12:25 (8,46 MB/s) - ‘jena_climate_2009_2016.csv.zip’ salvo [13565642/13565642]\n",
      "\n",
      "Archive:  jena_climate_2009_2016.csv.zip\n",
      "  inflating: jena_climate_2009_2016.csv  \n",
      "  inflating: __MACOSX/._jena_climate_2009_2016.csv  \n"
     ]
    }
   ],
   "source": [
    "!rm jena_climate_2009_2016.*\n",
    "!rm -r __MACOSX\n",
    "!wget https://s3.amazonaws.com/keras-datasets/jena_climate_2009_2016.csv.zip\n",
    "!unzip jena_climate_2009_2016.csv.zip"
   ]
  },
  {
   "cell_type": "code",
   "execution_count": 3,
   "id": "UGvv6j24hlUv",
   "metadata": {
    "colab": {
     "base_uri": "https://localhost:8080/"
    },
    "id": "UGvv6j24hlUv",
    "outputId": "4457195e-adb4-465b-c721-28b74968a35c"
   },
   "outputs": [
    {
     "name": "stderr",
     "output_type": "stream",
     "text": [
      "2023-12-05 19:12:31.841263: I external/local_xla/xla/stream_executor/cuda/cuda_executor.cc:901] successful NUMA node read from SysFS had negative value (-1), but there must be at least one NUMA node, so returning NUMA node zero. See more at https://github.com/torvalds/linux/blob/v6.0/Documentation/ABI/testing/sysfs-bus-pci#L344-L355\n"
     ]
    },
    {
     "data": {
      "text/plain": [
       "[PhysicalDevice(name='/physical_device:GPU:0', device_type='GPU')]"
      ]
     },
     "execution_count": 3,
     "metadata": {},
     "output_type": "execute_result"
    },
    {
     "name": "stderr",
     "output_type": "stream",
     "text": [
      "2023-12-05 19:12:31.868968: I external/local_xla/xla/stream_executor/cuda/cuda_executor.cc:901] successful NUMA node read from SysFS had negative value (-1), but there must be at least one NUMA node, so returning NUMA node zero. See more at https://github.com/torvalds/linux/blob/v6.0/Documentation/ABI/testing/sysfs-bus-pci#L344-L355\n",
      "2023-12-05 19:12:31.869068: I external/local_xla/xla/stream_executor/cuda/cuda_executor.cc:901] successful NUMA node read from SysFS had negative value (-1), but there must be at least one NUMA node, so returning NUMA node zero. See more at https://github.com/torvalds/linux/blob/v6.0/Documentation/ABI/testing/sysfs-bus-pci#L344-L355\n"
     ]
    }
   ],
   "source": [
    "tf.config.list_physical_devices('GPU')"
   ]
  },
  {
   "cell_type": "code",
   "execution_count": 4,
   "id": "KScJbuZ1p-Do",
   "metadata": {
    "colab": {
     "base_uri": "https://localhost:8080/"
    },
    "id": "KScJbuZ1p-Do",
    "outputId": "0cd7a7d2-1c6c-49da-c4f0-6deef704686d"
   },
   "outputs": [
    {
     "name": "stdout",
     "output_type": "stream",
     "text": [
      "Found GPU at: /device:GPU:0\n"
     ]
    },
    {
     "name": "stderr",
     "output_type": "stream",
     "text": [
      "2023-12-05 19:12:34.732846: I external/local_xla/xla/stream_executor/cuda/cuda_executor.cc:901] successful NUMA node read from SysFS had negative value (-1), but there must be at least one NUMA node, so returning NUMA node zero. See more at https://github.com/torvalds/linux/blob/v6.0/Documentation/ABI/testing/sysfs-bus-pci#L344-L355\n",
      "2023-12-05 19:12:34.733303: I external/local_xla/xla/stream_executor/cuda/cuda_executor.cc:901] successful NUMA node read from SysFS had negative value (-1), but there must be at least one NUMA node, so returning NUMA node zero. See more at https://github.com/torvalds/linux/blob/v6.0/Documentation/ABI/testing/sysfs-bus-pci#L344-L355\n",
      "2023-12-05 19:12:34.733552: I external/local_xla/xla/stream_executor/cuda/cuda_executor.cc:901] successful NUMA node read from SysFS had negative value (-1), but there must be at least one NUMA node, so returning NUMA node zero. See more at https://github.com/torvalds/linux/blob/v6.0/Documentation/ABI/testing/sysfs-bus-pci#L344-L355\n",
      "2023-12-05 19:12:34.783659: I external/local_xla/xla/stream_executor/cuda/cuda_executor.cc:901] successful NUMA node read from SysFS had negative value (-1), but there must be at least one NUMA node, so returning NUMA node zero. See more at https://github.com/torvalds/linux/blob/v6.0/Documentation/ABI/testing/sysfs-bus-pci#L344-L355\n",
      "2023-12-05 19:12:34.783732: I external/local_xla/xla/stream_executor/cuda/cuda_executor.cc:901] successful NUMA node read from SysFS had negative value (-1), but there must be at least one NUMA node, so returning NUMA node zero. See more at https://github.com/torvalds/linux/blob/v6.0/Documentation/ABI/testing/sysfs-bus-pci#L344-L355\n",
      "2023-12-05 19:12:34.783783: I external/local_xla/xla/stream_executor/cuda/cuda_executor.cc:901] successful NUMA node read from SysFS had negative value (-1), but there must be at least one NUMA node, so returning NUMA node zero. See more at https://github.com/torvalds/linux/blob/v6.0/Documentation/ABI/testing/sysfs-bus-pci#L344-L355\n",
      "2023-12-05 19:12:34.783825: I tensorflow/core/common_runtime/gpu/gpu_device.cc:1929] Created device /device:GPU:0 with 22197 MB memory:  -> device: 0, name: NVIDIA GeForce RTX 3090, pci bus id: 0000:01:00.0, compute capability: 8.6\n"
     ]
    }
   ],
   "source": [
    "device_name = tf.test.gpu_device_name()\n",
    "\n",
    "print('Found GPU at: {}'.format(device_name))"
   ]
  },
  {
   "cell_type": "markdown",
   "id": "2f6f3ed6-5b23-4c63-b425-c0bee72558b4",
   "metadata": {
    "id": "2f6f3ed6-5b23-4c63-b425-c0bee72558b4"
   },
   "source": [
    "### Load"
   ]
  },
  {
   "cell_type": "markdown",
   "id": "4a69dced-ff92-4ae3-bf09-586a676289e7",
   "metadata": {
    "id": "4a69dced-ff92-4ae3-bf09-586a676289e7"
   },
   "source": [
    "Load data:"
   ]
  },
  {
   "cell_type": "code",
   "execution_count": 5,
   "id": "84ee15f0-fe5f-4f62-9af0-c0e430aeb206",
   "metadata": {
    "colab": {
     "base_uri": "https://localhost:8080/"
    },
    "id": "84ee15f0-fe5f-4f62-9af0-c0e430aeb206",
    "outputId": "de8534a3-10fa-4556-a7ca-517ded95d2a1"
   },
   "outputs": [
    {
     "name": "stdout",
     "output_type": "stream",
     "text": [
      "['\"Date Time\"', '\"p (mbar)\"', '\"T (degC)\"', '\"Tpot (K)\"', '\"Tdew (degC)\"', '\"rh (%)\"', '\"VPmax (mbar)\"', '\"VPact (mbar)\"', '\"VPdef (mbar)\"', '\"sh (g/kg)\"', '\"H2OC (mmol/mol)\"', '\"rho (g/m**3)\"', '\"wv (m/s)\"', '\"max. wv (m/s)\"', '\"wd (deg)\"']\n",
      "420451\n"
     ]
    }
   ],
   "source": [
    "fname = os.path.join(\"jena_climate_2009_2016.csv\")\n",
    "with open(fname) as f:\n",
    "    data = f.read()\n",
    "lines = data.split(\"\\n\")\n",
    "header = lines[0].split(\",\")\n",
    "lines = lines[1:]\n",
    "print(header)\n",
    "print(len(lines))"
   ]
  },
  {
   "cell_type": "markdown",
   "id": "72912feb-d0aa-4354-a03c-f572d5cb25f0",
   "metadata": {
    "id": "72912feb-d0aa-4354-a03c-f572d5cb25f0"
   },
   "source": [
    "In this dataset, 14 different quantities (such as temperature, pressure, humidity, and wind direction) were recorded every 10 minutes over several years. The original data goes back to 2003, but the subset of the data we’ll download is limited to 2009–2016."
   ]
  },
  {
   "cell_type": "code",
   "execution_count": 6,
   "id": "e24cc1bb-bcbf-4a81-be0e-2f921ee49b6c",
   "metadata": {
    "id": "e24cc1bb-bcbf-4a81-be0e-2f921ee49b6c"
   },
   "outputs": [],
   "source": [
    "temperature = np.zeros((len(lines),))\n",
    "raw_data = np.zeros((len(lines), len(header) - 1))\n",
    "for i, line in enumerate(lines):\n",
    "    values = [float(x) for x in line.split(\",\")[1:]]\n",
    "    temperature[i] = values[1]\n",
    "    raw_data[i, :] = values[:]"
   ]
  },
  {
   "cell_type": "markdown",
   "id": "2c921283-9e5c-4ffd-af6a-d709321a6bec",
   "metadata": {
    "id": "2c921283-9e5c-4ffd-af6a-d709321a6bec"
   },
   "source": [
    "`temperature` holds the observed values of the data that we want to predict and `raw_data` holds all the numeric variables, including temperature."
   ]
  },
  {
   "cell_type": "markdown",
   "id": "18f8d50d-fcff-42ab-be60-5041d3a5a2b4",
   "metadata": {
    "id": "18f8d50d-fcff-42ab-be60-5041d3a5a2b4"
   },
   "source": [
    "### Plot the data"
   ]
  },
  {
   "cell_type": "markdown",
   "id": "b637858b-2b4d-4bb5-9e46-a89ddf805694",
   "metadata": {
    "id": "b637858b-2b4d-4bb5-9e46-a89ddf805694"
   },
   "source": [
    "Plot the temperature over time:"
   ]
  },
  {
   "cell_type": "code",
   "execution_count": 7,
   "id": "4cb7010c-fef2-45e9-85db-a9fc6680a452",
   "metadata": {
    "colab": {
     "base_uri": "https://localhost:8080/"
    },
    "id": "4cb7010c-fef2-45e9-85db-a9fc6680a452",
    "outputId": "a27b9064-8408-4a40-c250-839784378611"
   },
   "outputs": [
    {
     "data": {
      "text/plain": [
       "[<matplotlib.lines.Line2D at 0x7f259c09ba50>]"
      ]
     },
     "execution_count": 7,
     "metadata": {},
     "output_type": "execute_result"
    },
    {
     "data": {
      "image/png": "[encoded data removed]",
      "text/plain": [
       "<Figure size 640x480 with 1 Axes>"
      ]
     },
     "metadata": {},
     "output_type": "display_data"
    }
   ],
   "source": [
    "plt.plot(range(len(temperature)), temperature)"
   ]
  },
  {
   "cell_type": "markdown",
   "id": "47c1086a-191c-41eb-ac91-7f528961d373",
   "metadata": {
    "id": "47c1086a-191c-41eb-ac91-7f528961d373"
   },
   "source": [
    "First 10 days of temperature data. 24 * 6 = 144 data points per day."
   ]
  },
  {
   "cell_type": "code",
   "execution_count": 8,
   "id": "19e92b98-9e53-4939-98ae-f0ac854fcbef",
   "metadata": {
    "colab": {
     "base_uri": "https://localhost:8080/"
    },
    "id": "19e92b98-9e53-4939-98ae-f0ac854fcbef",
    "outputId": "43c62885-bb80-4b94-c288-12e93b6eae32"
   },
   "outputs": [
    {
     "data": {
      "text/plain": [
       "[<matplotlib.lines.Line2D at 0x7f258640d210>]"
      ]
     },
     "execution_count": 8,
     "metadata": {},
     "output_type": "execute_result"
    },
    {
     "data": {
      "image/png": "[encoded data removed]",
      "text/plain": [
       "<Figure size 640x480 with 1 Axes>"
      ]
     },
     "metadata": {},
     "output_type": "display_data"
    }
   ],
   "source": [
    "plt.plot(range(1440), temperature[:1440])"
   ]
  },
  {
   "cell_type": "markdown",
   "id": "51bdecd1-d6b2-4690-a293-449af6517e8d",
   "metadata": {
    "id": "51bdecd1-d6b2-4690-a293-449af6517e8d"
   },
   "source": [
    "## Task"
   ]
  },
  {
   "cell_type": "markdown",
   "id": "59d4ea17-1799-449b-9326-b984837709f4",
   "metadata": {
    "id": "59d4ea17-1799-449b-9326-b984837709f4"
   },
   "source": [
    "\n",
    "\n",
    "```\n",
    "# Isto está formatado como código\n",
    "```\n",
    "\n",
    "Given data covering the previous five days and sampled once per hour, can we predict the temperature in 24 hours?"
   ]
  },
  {
   "cell_type": "markdown",
   "id": "04ca5700-9465-432c-8686-0c66fb84a738",
   "metadata": {
    "id": "04ca5700-9465-432c-8686-0c66fb84a738"
   },
   "source": [
    "This notebook contains sample code for:\n",
    "\n",
    "* Feedforward neural network\n",
    "* 1D convolution neural network\n",
    "* 3 variations of recurring neural network"
   ]
  },
  {
   "cell_type": "markdown",
   "id": "3a1f2c46-a60c-4943-a32e-3edaf375ab1b",
   "metadata": {
    "id": "3a1f2c46-a60c-4943-a32e-3edaf375ab1b"
   },
   "source": [
    "Optimize the three classes of models above to give the best MAE. In addtion, use a transformer to compete in terms of MAE."
   ]
  },
  {
   "cell_type": "markdown",
   "id": "5109b55b-2e4c-45aa-b355-a20ef52de0c3",
   "metadata": {
    "id": "5109b55b-2e4c-45aa-b355-a20ef52de0c3"
   },
   "source": [
    "This [page](https://keras.io/examples/timeseries/timeseries_classification_transformer/) contains a reference of using a Transformer for time-series data."
   ]
  },
  {
   "cell_type": "markdown",
   "id": "ba0f3234-1450-484f-ae06-f2d877b2229c",
   "metadata": {
    "id": "ba0f3234-1450-484f-ae06-f2d877b2229c"
   },
   "source": [
    "The sample code below is a starting point. Your job is to extract the most value out of the models mentioned above. You are free to go beyond what is requested here and try out different models if you like."
   ]
  },
  {
   "cell_type": "markdown",
   "id": "54843bc0-3a9c-4ac9-828f-a0f1c095147c",
   "metadata": {
    "id": "54843bc0-3a9c-4ac9-828f-a0f1c095147c"
   },
   "source": [
    "Return a `.ipynb` containing the code (one section per model) and start the document with a summary of the models you tried and their respective MAEs in a table."
   ]
  },
  {
   "cell_type": "markdown",
   "id": "2fd0482e-34b8-4ad1-848a-ef1f50dad54a",
   "metadata": {
    "id": "2fd0482e-34b8-4ad1-848a-ef1f50dad54a"
   },
   "source": [
    "**Deadline**: 05/12"
   ]
  },
  {
   "cell_type": "markdown",
   "id": "6660ec55-63b3-4382-b677-86dd5856e039",
   "metadata": {
    "id": "6660ec55-63b3-4382-b677-86dd5856e039"
   },
   "source": [
    "### Prepare the data"
   ]
  },
  {
   "cell_type": "markdown",
   "id": "2b619474-48ea-492d-a295-e925e76d9534",
   "metadata": {
    "id": "2b619474-48ea-492d-a295-e925e76d9534"
   },
   "source": [
    "Decide the number of data points that will be assigned to training, validation and test sets."
   ]
  },
  {
   "cell_type": "code",
   "execution_count": 9,
   "id": "c6e01267-4d10-4c52-b4ef-f52abe5417d5",
   "metadata": {
    "colab": {
     "base_uri": "https://localhost:8080/"
    },
    "id": "c6e01267-4d10-4c52-b4ef-f52abe5417d5",
    "outputId": "36cb019a-3b6f-4b9f-d334-f2af86a28169"
   },
   "outputs": [
    {
     "name": "stdout",
     "output_type": "stream",
     "text": [
      "num_train_samples: 210225\n",
      "num_val_samples: 105112\n",
      "num_test_samples: 105114\n"
     ]
    }
   ],
   "source": [
    "num_train_samples = int(0.5 * len(raw_data))\n",
    "num_val_samples = int(0.25 * len(raw_data))\n",
    "num_test_samples = len(raw_data) - num_train_samples - num_val_samples\n",
    "print(\"num_train_samples:\", num_train_samples)\n",
    "print(\"num_val_samples:\", num_val_samples)\n",
    "print(\"num_test_samples:\", num_test_samples)"
   ]
  },
  {
   "cell_type": "markdown",
   "id": "65c64ef9-8f73-4c1c-ae66-382c3ce46347",
   "metadata": {
    "id": "65c64ef9-8f73-4c1c-ae66-382c3ce46347"
   },
   "source": [
    "Normalize the data."
   ]
  },
  {
   "cell_type": "code",
   "execution_count": 10,
   "id": "857a20b9-2e3d-412c-ba40-1d92bbb7c7bd",
   "metadata": {
    "id": "857a20b9-2e3d-412c-ba40-1d92bbb7c7bd"
   },
   "outputs": [],
   "source": [
    "mean = raw_data[:num_train_samples].mean(axis=0)\n",
    "raw_data -= mean\n",
    "std = raw_data[:num_train_samples].std(axis=0)\n",
    "raw_data /= std"
   ]
  },
  {
   "cell_type": "markdown",
   "id": "a1422f9b-a270-4d5c-8322-58eb6d59ec78",
   "metadata": {
    "id": "a1422f9b-a270-4d5c-8322-58eb6d59ec78"
   },
   "source": [
    "Create `tensorflow.data.Dataset` for training, validation and test splits:"
   ]
  },
  {
   "cell_type": "code",
   "execution_count": 11,
   "id": "9d0854d8-9b85-440c-8ee1-f48f27dd75af",
   "metadata": {
    "id": "9d0854d8-9b85-440c-8ee1-f48f27dd75af"
   },
   "outputs": [
    {
     "name": "stderr",
     "output_type": "stream",
     "text": [
      "2023-12-05 19:12:54.258093: I external/local_xla/xla/stream_executor/cuda/cuda_executor.cc:901] successful NUMA node read from SysFS had negative value (-1), but there must be at least one NUMA node, so returning NUMA node zero. See more at https://github.com/torvalds/linux/blob/v6.0/Documentation/ABI/testing/sysfs-bus-pci#L344-L355\n",
      "2023-12-05 19:12:54.258522: I external/local_xla/xla/stream_executor/cuda/cuda_executor.cc:901] successful NUMA node read from SysFS had negative value (-1), but there must be at least one NUMA node, so returning NUMA node zero. See more at https://github.com/torvalds/linux/blob/v6.0/Documentation/ABI/testing/sysfs-bus-pci#L344-L355\n",
      "2023-12-05 19:12:54.258753: I external/local_xla/xla/stream_executor/cuda/cuda_executor.cc:901] successful NUMA node read from SysFS had negative value (-1), but there must be at least one NUMA node, so returning NUMA node zero. See more at https://github.com/torvalds/linux/blob/v6.0/Documentation/ABI/testing/sysfs-bus-pci#L344-L355\n",
      "2023-12-05 19:12:54.259050: I external/local_xla/xla/stream_executor/cuda/cuda_executor.cc:901] successful NUMA node read from SysFS had negative value (-1), but there must be at least one NUMA node, so returning NUMA node zero. See more at https://github.com/torvalds/linux/blob/v6.0/Documentation/ABI/testing/sysfs-bus-pci#L344-L355\n",
      "2023-12-05 19:12:54.259272: I external/local_xla/xla/stream_executor/cuda/cuda_executor.cc:901] successful NUMA node read from SysFS had negative value (-1), but there must be at least one NUMA node, so returning NUMA node zero. See more at https://github.com/torvalds/linux/blob/v6.0/Documentation/ABI/testing/sysfs-bus-pci#L344-L355\n",
      "2023-12-05 19:12:54.259452: I tensorflow/core/common_runtime/gpu/gpu_device.cc:1929] Created device /job:localhost/replica:0/task:0/device:GPU:0 with 22197 MB memory:  -> device: 0, name: NVIDIA GeForce RTX 3090, pci bus id: 0000:01:00.0, compute capability: 8.6\n",
      "2023-12-05 19:12:54.544077: I external/local_tsl/tsl/platform/default/subprocess.cc:304] Start cannot spawn child process: No such file or directory\n"
     ]
    }
   ],
   "source": [
    "sampling_rate = 6\n",
    "sequence_length = 120\n",
    "delay = sampling_rate * (sequence_length + 24 - 1)\n",
    "batch_size = 512\n",
    "\n",
    "train_dataset = keras.utils.timeseries_dataset_from_array(\n",
    "    raw_data[:-delay],\n",
    "    targets=temperature[delay:],\n",
    "    sampling_rate=sampling_rate,\n",
    "    sequence_length=sequence_length,\n",
    "    shuffle=True,\n",
    "    batch_size=batch_size,\n",
    "    start_index=0,\n",
    "    end_index=num_train_samples\n",
    ")\n",
    "\n",
    "val_dataset = keras.utils.timeseries_dataset_from_array(\n",
    "    raw_data[:-delay],\n",
    "    targets=temperature[delay:],\n",
    "    sampling_rate=sampling_rate,\n",
    "    sequence_length=sequence_length,\n",
    "    shuffle=True,\n",
    "    batch_size=batch_size,\n",
    "    start_index=num_train_samples,\n",
    "    end_index=num_train_samples + num_val_samples\n",
    ")\n",
    "\n",
    "test_dataset = keras.utils.timeseries_dataset_from_array(\n",
    "    raw_data[:-delay],\n",
    "    targets=temperature[delay:],\n",
    "    sampling_rate=sampling_rate,\n",
    "    sequence_length=sequence_length,\n",
    "    shuffle=True,\n",
    "    batch_size=batch_size,\n",
    "    start_index=num_train_samples + num_val_samples\n",
    ")"
   ]
  },
  {
   "cell_type": "markdown",
   "id": "01b99491-598c-4e5c-bdad-09e278e6f350",
   "metadata": {
    "id": "01b99491-598c-4e5c-bdad-09e278e6f350"
   },
   "source": [
    "Check the input dimensions:"
   ]
  },
  {
   "cell_type": "code",
   "execution_count": 12,
   "id": "e1b85225-c120-4f8c-96c9-8480b3981a09",
   "metadata": {
    "colab": {
     "base_uri": "https://localhost:8080/"
    },
    "id": "e1b85225-c120-4f8c-96c9-8480b3981a09",
    "outputId": "88f3001a-af31-49f7-c58a-e5369b1d4f3d"
   },
   "outputs": [
    {
     "name": "stdout",
     "output_type": "stream",
     "text": [
      "samples shape: (512, 120, 14)\n",
      "targets shape: (512,)\n"
     ]
    }
   ],
   "source": [
    "for samples, targets in train_dataset:\n",
    "    print(\"samples shape:\", samples.shape)\n",
    "    print(\"targets shape:\", targets.shape)\n",
    "    break"
   ]
  },
  {
   "cell_type": "markdown",
   "id": "89862622-b676-4f72-8eaf-0b2d9da9c07f",
   "metadata": {
    "id": "89862622-b676-4f72-8eaf-0b2d9da9c07f"
   },
   "source": [
    "Use naive model as baseline:"
   ]
  },
  {
   "cell_type": "code",
   "execution_count": 13,
   "id": "9559159b-2ce0-46d3-bde4-45207a5472d4",
   "metadata": {
    "colab": {
     "base_uri": "https://localhost:8080/"
    },
    "id": "9559159b-2ce0-46d3-bde4-45207a5472d4",
    "outputId": "43e9766e-e566-4c17-cf7f-184f8601b5d3"
   },
   "outputs": [
    {
     "name": "stdout",
     "output_type": "stream",
     "text": [
      "Validation MAE: 2.44\n",
      "Test MAE: 2.62\n"
     ]
    }
   ],
   "source": [
    "def evaluate_naive_method(dataset):\n",
    "    total_abs_err = 0.\n",
    "    samples_seen = 0\n",
    "    for samples, targets in dataset:\n",
    "        preds = samples[:, -1, 1] * std[1] + mean[1]\n",
    "        total_abs_err += np.sum(np.abs(preds - targets))\n",
    "        samples_seen += samples.shape[0]\n",
    "    return total_abs_err / samples_seen\n",
    "\n",
    "\n",
    "print(f\"Validation MAE: {evaluate_naive_method(val_dataset):.2f}\")\n",
    "print(f\"Test MAE: {evaluate_naive_method(test_dataset):.2f}\")"
   ]
  },
  {
   "cell_type": "markdown",
   "id": "3fd3f35d-7688-4d1e-b439-ae8022d1a3df",
   "metadata": {
    "id": "3fd3f35d-7688-4d1e-b439-ae8022d1a3df"
   },
   "source": [
    "## Feedforward neural network"
   ]
  },
  {
   "cell_type": "code",
   "execution_count": 15,
   "id": "19284afa-3a1a-4321-b795-3edc5033c445",
   "metadata": {
    "colab": {
     "base_uri": "https://localhost:8080/"
    },
    "id": "19284afa-3a1a-4321-b795-3edc5033c445",
    "outputId": "260f7565-c867-4097-efda-6c8be9f35405"
   },
   "outputs": [
    {
     "name": "stdout",
     "output_type": "stream",
     "text": [
      "Model: \"model_1\"\n",
      "__________________________________________________________________________________________________\n",
      " Layer (type)                Output Shape                 Param #   Connected to                  \n",
      "==================================================================================================\n",
      " input_2 (InputLayer)        [(None, 120, 14)]            0         []                            \n",
      "                                                                                                  \n",
      " tf.__operators__.getitem_6  (None, 118, 14)              0         ['input_2[0][0]']             \n",
      "  (SlicingOpLambda)                                                                               \n",
      "                                                                                                  \n",
      " tf.__operators__.getitem_7  (None, 118, 14)              0         ['input_2[0][0]']             \n",
      "  (SlicingOpLambda)                                                                               \n",
      "                                                                                                  \n",
      " tf.__operators__.getitem_8  (None, 118, 14)              0         ['input_2[0][0]']             \n",
      "  (SlicingOpLambda)                                                                               \n",
      "                                                                                                  \n",
      " tf.__operators__.getitem_9  (None, 120)                  0         ['input_2[0][0]']             \n",
      "  (SlicingOpLambda)                                                                               \n",
      "                                                                                                  \n",
      " tf.__operators__.getitem_1  (None, 120, 14)              0         ['input_2[0][0]']             \n",
      " 1 (SlicingOpLambda)                                                                              \n",
      "                                                                                                  \n",
      " concatenate_3 (Concatenate  (None, 118, 42)              0         ['tf.__operators__.getitem_6[0\n",
      " )                                                                  ][0]',                        \n",
      "                                                                     'tf.__operators__.getitem_7[0\n",
      "                                                                    ][0]',                        \n",
      "                                                                     'tf.__operators__.getitem_8[0\n",
      "                                                                    ][0]']                        \n",
      "                                                                                                  \n",
      " tf.math.multiply_2 (TFOpLa  (None, 120)                  0         ['tf.__operators__.getitem_9[0\n",
      " mbda)                                                              ][0]']                        \n",
      "                                                                                                  \n",
      " tf.math.multiply_3 (TFOpLa  (None, 120, 14)              0         ['tf.__operators__.getitem_11[\n",
      " mbda)                                                              0][0]']                       \n",
      "                                                                                                  \n",
      " dense_3 (Dense)             (None, 118, 32)              1376      ['concatenate_3[0][0]']       \n",
      "                                                                                                  \n",
      " tf.__operators__.add_2 (TF  (None, 120)                  0         ['tf.math.multiply_2[0][0]']  \n",
      " OpLambda)                                                                                        \n",
      "                                                                                                  \n",
      " tf.__operators__.add_3 (TF  (None, 120, 14)              0         ['tf.math.multiply_3[0][0]']  \n",
      " OpLambda)                                                                                        \n",
      "                                                                                                  \n",
      " dropout_2 (Dropout)         (None, 118, 32)              0         ['dense_3[0][0]']             \n",
      "                                                                                                  \n",
      " reshape_1 (Reshape)         (None, 120, 1)               0         ['tf.__operators__.add_2[0][0]\n",
      "                                                                    ']                            \n",
      "                                                                                                  \n",
      " global_average_pooling1d_3  (None, 14)                   0         ['tf.__operators__.add_3[0][0]\n",
      "  (GlobalAveragePooling1D)                                          ']                            \n",
      "                                                                                                  \n",
      " global_average_pooling1d_2  (None, 32)                   0         ['dropout_2[0][0]']           \n",
      "  (GlobalAveragePooling1D)                                                                        \n",
      "                                                                                                  \n",
      " tf.__operators__.getitem_1  (None, 1)                    0         ['reshape_1[0][0]']           \n",
      " 0 (SlicingOpLambda)                                                                              \n",
      "                                                                                                  \n",
      " flatten_1 (Flatten)         (None, 14)                   0         ['global_average_pooling1d_3[0\n",
      "                                                                    ][0]']                        \n",
      "                                                                                                  \n",
      " concatenate_4 (Concatenate  (None, 47)                   0         ['global_average_pooling1d_2[0\n",
      " )                                                                  ][0]',                        \n",
      "                                                                     'tf.__operators__.getitem_10[\n",
      "                                                                    0][0]',                       \n",
      "                                                                     'flatten_1[0][0]']           \n",
      "                                                                                                  \n",
      " dense_4 (Dense)             (None, 8)                    384       ['concatenate_4[0][0]']       \n",
      "                                                                                                  \n",
      " dropout_3 (Dropout)         (None, 8)                    0         ['dense_4[0][0]']             \n",
      "                                                                                                  \n",
      " concatenate_5 (Concatenate  (None, 23)                   0         ['dropout_3[0][0]',           \n",
      " )                                                                   'tf.__operators__.getitem_10[\n",
      "                                                                    0][0]',                       \n",
      "                                                                     'flatten_1[0][0]']           \n",
      "                                                                                                  \n",
      " dense_5 (Dense)             (None, 1)                    24        ['concatenate_5[0][0]']       \n",
      "                                                                                                  \n",
      "==================================================================================================\n",
      "Total params: 1784 (6.97 KB)\n",
      "Trainable params: 1784 (6.97 KB)\n",
      "Non-trainable params: 0 (0.00 Byte)\n",
      "__________________________________________________________________________________________________\n"
     ]
    }
   ],
   "source": [
    "def create_ff_model(dropout=1/3):\n",
    "    inputs = keras.Input(shape=(sequence_length, raw_data.shape[-1]))\n",
    "\n",
    "    x = layers.Concatenate()([inputs[:, 0:-2, :], inputs[:, 1:-1, :], inputs[:, 2:, :]])\n",
    "    x = layers.Dense(32, activation=\"relu\")(x)\n",
    "    x = layers.Dropout(dropout)(x)\n",
    "    x = layers.GlobalAveragePooling1D()(x)\n",
    "\n",
    "    temps = inputs[:, :, 1] * std[1] + mean[1]\n",
    "    temps = layers.Reshape(temps.shape[1:] + (1,))(temps)\n",
    "\n",
    "    naive_est = temps[:, -1, :]\n",
    "\n",
    "    mean_est = inputs[:, :, :] * std[1] + mean[1]\n",
    "    mean_est = layers.GlobalAveragePooling1D()(mean_est)\n",
    "    mean_est = layers.Flatten()(mean_est)\n",
    "\n",
    "    x = layers.Concatenate()([x, naive_est, mean_est])\n",
    "    x = layers.Dense(8, activation=\"relu\")(x)\n",
    "    x = layers.Dropout(dropout)(x)\n",
    "    x = layers.Concatenate()([x, naive_est, mean_est])\n",
    "    x = layers.Dense(1)(x)\n",
    "\n",
    "    outputs = x\n",
    "\n",
    "    model = tf.keras.Model(inputs=inputs, outputs=outputs)\n",
    "\n",
    "    return model\n",
    "\n",
    "ff_model = create_ff_model()\n",
    "ff_model.summary()"
   ]
  },
  {
   "cell_type": "code",
   "execution_count": 16,
   "id": "08730dea-e2e3-4ff5-aa3c-75bf74e5c76c",
   "metadata": {
    "colab": {
     "base_uri": "https://localhost:8080/"
    },
    "id": "08730dea-e2e3-4ff5-aa3c-75bf74e5c76c",
    "outputId": "d03c81c5-8048-4d4d-b418-6db7f82692e4"
   },
   "outputs": [
    {
     "name": "stdout",
     "output_type": "stream",
     "text": [
      "Epoch 1/100\n"
     ]
    },
    {
     "name": "stderr",
     "output_type": "stream",
     "text": [
      "2023-12-05 15:26:56.639650: I external/local_xla/xla/service/service.cc:168] XLA service 0x7fd53969b600 initialized for platform CUDA (this does not guarantee that XLA will be used). Devices:\n",
      "2023-12-05 15:26:56.639667: I external/local_xla/xla/service/service.cc:176]   StreamExecutor device (0): NVIDIA GeForce RTX 3090, Compute Capability 8.6\n",
      "2023-12-05 15:26:56.646110: I tensorflow/compiler/mlir/tensorflow/utils/dump_mlir_util.cc:269] disabling MLIR crash reproducer, set env var `MLIR_CRASH_REPRODUCER_DIRECTORY` to enable.\n",
      "2023-12-05 15:26:57.356618: I external/local_xla/xla/stream_executor/cuda/cuda_dnn.cc:454] Loaded cuDNN version 8904\n",
      "WARNING: All log messages before absl::InitializeLog() is called are written to STDERR\n",
      "I0000 00:00:1701800817.409942    7876 device_compiler.h:186] Compiled cluster using XLA!  This line is logged at most once for the lifetime of the process.\n"
     ]
    },
    {
     "name": "stdout",
     "output_type": "stream",
     "text": [
      "410/410 [==============================] - 6s 9ms/step - loss: 54.9775 - mae: 5.4003 - val_loss: 10.8534 - val_mae: 2.5630\n",
      "Epoch 2/100\n",
      "410/410 [==============================] - 4s 9ms/step - loss: 14.4574 - mae: 2.9918 - val_loss: 9.9651 - val_mae: 2.4594\n",
      "Epoch 3/100\n",
      "410/410 [==============================] - 4s 9ms/step - loss: 12.2108 - mae: 2.7540 - val_loss: 9.8083 - val_mae: 2.4450\n",
      "Epoch 4/100\n",
      "410/410 [==============================] - 4s 9ms/step - loss: 11.8421 - mae: 2.7120 - val_loss: 9.6843 - val_mae: 2.4304\n",
      "Epoch 5/100\n",
      "410/410 [==============================] - 4s 9ms/step - loss: 11.6338 - mae: 2.6858 - val_loss: 9.5722 - val_mae: 2.4144\n",
      "Epoch 6/100\n",
      "410/410 [==============================] - 4s 9ms/step - loss: 11.4898 - mae: 2.6661 - val_loss: 9.5247 - val_mae: 2.4090\n",
      "Epoch 7/100\n",
      "410/410 [==============================] - 4s 9ms/step - loss: 11.3630 - mae: 2.6501 - val_loss: 9.5020 - val_mae: 2.4064\n",
      "Epoch 8/100\n",
      "410/410 [==============================] - 4s 9ms/step - loss: 11.2643 - mae: 2.6362 - val_loss: 9.4253 - val_mae: 2.3957\n",
      "Epoch 9/100\n",
      "410/410 [==============================] - 4s 9ms/step - loss: 11.1695 - mae: 2.6239 - val_loss: 9.3495 - val_mae: 2.3836\n",
      "Epoch 10/100\n",
      "410/410 [==============================] - 4s 9ms/step - loss: 11.1069 - mae: 2.6170 - val_loss: 9.3611 - val_mae: 2.3867\n",
      "Epoch 11/100\n",
      "410/410 [==============================] - 4s 9ms/step - loss: 11.0278 - mae: 2.6069 - val_loss: 9.3223 - val_mae: 2.3798\n",
      "Epoch 12/100\n",
      "410/410 [==============================] - 4s 9ms/step - loss: 10.9839 - mae: 2.6019 - val_loss: 9.3274 - val_mae: 2.3838\n",
      "Epoch 13/100\n",
      "410/410 [==============================] - 4s 9ms/step - loss: 10.9395 - mae: 2.5976 - val_loss: 9.2790 - val_mae: 2.3756\n",
      "Epoch 14/100\n",
      "410/410 [==============================] - 4s 9ms/step - loss: 10.8871 - mae: 2.5916 - val_loss: 9.2798 - val_mae: 2.3757\n",
      "Epoch 15/100\n",
      "410/410 [==============================] - 4s 9ms/step - loss: 10.8161 - mae: 2.5818 - val_loss: 9.2552 - val_mae: 2.3730\n",
      "Epoch 16/100\n",
      "410/410 [==============================] - 4s 9ms/step - loss: 10.7752 - mae: 2.5764 - val_loss: 9.3095 - val_mae: 2.3800\n",
      "Epoch 17/100\n",
      "410/410 [==============================] - 4s 9ms/step - loss: 10.7191 - mae: 2.5709 - val_loss: 9.3346 - val_mae: 2.3853\n",
      "Epoch 18/100\n",
      "410/410 [==============================] - 4s 9ms/step - loss: 10.6842 - mae: 2.5666 - val_loss: 9.3707 - val_mae: 2.3896\n",
      "Epoch 19/100\n",
      "410/410 [==============================] - 4s 9ms/step - loss: 10.6491 - mae: 2.5630 - val_loss: 9.4340 - val_mae: 2.3989\n",
      "Epoch 20/100\n",
      "410/410 [==============================] - 4s 9ms/step - loss: 10.6352 - mae: 2.5627 - val_loss: 9.4818 - val_mae: 2.4076\n",
      "Epoch 21/100\n",
      "410/410 [==============================] - 4s 9ms/step - loss: 10.6084 - mae: 2.5594 - val_loss: 9.3975 - val_mae: 2.3958\n",
      "Epoch 22/100\n",
      "410/410 [==============================] - 4s 9ms/step - loss: 10.5802 - mae: 2.5569 - val_loss: 9.5282 - val_mae: 2.4110\n",
      "Epoch 23/100\n",
      "410/410 [==============================] - 4s 9ms/step - loss: 10.5636 - mae: 2.5548 - val_loss: 9.5642 - val_mae: 2.4143\n",
      "Epoch 24/100\n",
      "410/410 [==============================] - 4s 9ms/step - loss: 10.5393 - mae: 2.5528 - val_loss: 9.4377 - val_mae: 2.3973\n",
      "Epoch 25/100\n",
      "410/410 [==============================] - 4s 9ms/step - loss: 10.5384 - mae: 2.5515 - val_loss: 9.5238 - val_mae: 2.4102\n",
      "  9/203 [>.............................] - ETA: 1s - loss: 10.3908 - mae: 2.5289 "
     ]
    },
    {
     "name": "stderr",
     "output_type": "stream",
     "text": [
      "/home/alunos/.asdf/installs/python/3.11.4/lib/python3.11/site-packages/keras/src/engine/training.py:3103: UserWarning: You are saving your model as an HDF5 file via `model.save()`. This file format is considered legacy. We recommend using instead the native Keras format, e.g. `model.save('my_model.keras')`.\n",
      "  saving_api.save_model(\n"
     ]
    },
    {
     "name": "stdout",
     "output_type": "stream",
     "text": [
      "203/203 [==============================] - 1s 6ms/step - loss: 10.7972 - mae: 2.5718\n",
      "Test MAE: 2.57\n"
     ]
    }
   ],
   "source": [
    "ff_model.compile(optimizer='adam', loss=\"mse\", metrics=[\"mae\"])\n",
    "early_stopping = EarlyStopping(monitor='val_loss', patience=10, restore_best_weights=True)\n",
    "model_checkpoint = ModelCheckpoint('ff_model.keras', monitor='val_loss', save_best_only=True)\n",
    "\n",
    "with tf.device(\"GPU:0\"):\n",
    "    ff_history = ff_model.fit(\n",
    "        train_dataset,\n",
    "        epochs=100,\n",
    "        validation_data=val_dataset,\n",
    "        callbacks=[early_stopping, model_checkpoint],\n",
    "    )\n",
    "\n",
    "ff_model.save('./models/ff_model.h5')\n",
    "\n",
    "print(f\"Test MAE: {ff_model.evaluate(test_dataset)[1]:.2f}\")"
   ]
  },
  {
   "cell_type": "code",
   "execution_count": 17,
   "id": "6015a207-c80a-4a8e-a9ee-f0e97fdef9f5",
   "metadata": {
    "colab": {
     "base_uri": "https://localhost:8080/",
     "height": 452
    },
    "id": "6015a207-c80a-4a8e-a9ee-f0e97fdef9f5",
    "outputId": "8ce23878-d5b8-4949-a9be-bb606b13a486"
   },
   "outputs": [
    {
     "data": {
      "image/png": "[encoded data removed]",
      "text/plain": [
       "<Figure size 640x480 with 1 Axes>"
      ]
     },
     "metadata": {},
     "output_type": "display_data"
    }
   ],
   "source": [
    "loss = ff_history.history[\"mae\"]\n",
    "val_loss = ff_history.history[\"val_mae\"]\n",
    "epochs = range(1, len(loss) + 1)\n",
    "plt.figure()\n",
    "plt.plot(epochs, loss, \"bo\", label=\"Training MAE\")\n",
    "plt.plot(epochs, val_loss, \"b\", label=\"Validation MAE\")\n",
    "plt.title(\"Training and validation MAE\")\n",
    "plt.legend()\n",
    "plt.show()"
   ]
  },
  {
   "cell_type": "code",
   "execution_count": 18,
   "id": "rsRoMlYORchX",
   "metadata": {
    "colab": {
     "base_uri": "https://localhost:8080/"
    },
    "id": "rsRoMlYORchX",
    "outputId": "39eef7cc-0838-4088-be35-9133de10c013"
   },
   "outputs": [],
   "source": [
    "# ff_model.layers[-1].get_weights()"
   ]
  },
  {
   "cell_type": "code",
   "execution_count": 20,
   "id": "836291fa-df59-4972-a220-f8bfb7649624",
   "metadata": {},
   "outputs": [
    {
     "name": "stdout",
     "output_type": "stream",
     "text": [
      "  1/203 [..............................] - ETA: 3:13 - loss: 10.0910 - mae: 2.4898"
     ]
    },
    {
     "name": "stderr",
     "output_type": "stream",
     "text": [
      "2023-12-05 15:41:59.549431: I external/local_xla/xla/stream_executor/cuda/cuda_dnn.cc:454] Loaded cuDNN version 8904\n",
      "2023-12-05 15:41:59.671306: I external/local_tsl/tsl/platform/default/subprocess.cc:304] Start cannot spawn child process: No such file or directory\n"
     ]
    },
    {
     "name": "stdout",
     "output_type": "stream",
     "text": [
      "203/203 [==============================] - 2s 6ms/step - loss: 10.7447 - mae: 2.5642\n"
     ]
    },
    {
     "data": {
      "text/plain": [
       "2.5642166137695312"
      ]
     },
     "execution_count": 20,
     "metadata": {},
     "output_type": "execute_result"
    }
   ],
   "source": [
    "# new_model = tf.keras.models.load_model('./models/conv_model.h5')\n",
    "# new_model.evaluate(test_dataset)[1]"
   ]
  },
  {
   "cell_type": "markdown",
   "id": "1eb3dcf7-37d1-4e16-b3a3-6f3e776dc476",
   "metadata": {
    "id": "1eb3dcf7-37d1-4e16-b3a3-6f3e776dc476"
   },
   "source": [
    "## 1D convolution neural network"
   ]
  },
  {
   "cell_type": "code",
   "execution_count": 21,
   "id": "5b2da1b7-6cb1-4cec-a9fb-7459a731939e",
   "metadata": {
    "id": "5b2da1b7-6cb1-4cec-a9fb-7459a731939e"
   },
   "outputs": [
    {
     "name": "stdout",
     "output_type": "stream",
     "text": [
      "Model: \"model\"\n",
      "__________________________________________________________________________________________________\n",
      " Layer (type)                Output Shape                 Param #   Connected to                  \n",
      "==================================================================================================\n",
      " input_1 (InputLayer)        [(None, 120, 14)]            0         []                            \n",
      "                                                                                                  \n",
      " tf.__operators__.getitem_2  (None, 120)                  0         ['input_1[0][0]']             \n",
      "  (SlicingOpLambda)                                                                               \n",
      "                                                                                                  \n",
      " tf.__operators__.getitem (  (None, 120)                  0         ['input_1[0][0]']             \n",
      " SlicingOpLambda)                                                                                 \n",
      "                                                                                                  \n",
      " tf.math.multiply_1 (TFOpLa  (None, 120)                  0         ['tf.__operators__.getitem_2[0\n",
      " mbda)                                                              ][0]']                        \n",
      "                                                                                                  \n",
      " tf.math.multiply (TFOpLamb  (None, 120)                  0         ['tf.__operators__.getitem[0][\n",
      " da)                                                                0]']                          \n",
      "                                                                                                  \n",
      " tf.__operators__.add_1 (TF  (None, 120)                  0         ['tf.math.multiply_1[0][0]']  \n",
      " OpLambda)                                                                                        \n",
      "                                                                                                  \n",
      " conv1d (Conv1D)             (None, 115, 8)               680       ['input_1[0][0]']             \n",
      "                                                                                                  \n",
      " tf.__operators__.add (TFOp  (None, 120)                  0         ['tf.math.multiply[0][0]']    \n",
      " Lambda)                                                                                          \n",
      "                                                                                                  \n",
      " reshape_1 (Reshape)         (None, 120, 1)               0         ['tf.__operators__.add_1[0][0]\n",
      "                                                                    ']                            \n",
      "                                                                                                  \n",
      " max_pooling1d (MaxPooling1  (None, 57, 8)                0         ['conv1d[0][0]']              \n",
      " D)                                                                                               \n",
      "                                                                                                  \n",
      " reshape (Reshape)           (None, 120, 1)               0         ['tf.__operators__.add[0][0]']\n",
      "                                                                                                  \n",
      " global_average_pooling1d_1  (None, 1)                    0         ['reshape_1[0][0]']           \n",
      "  (GlobalAveragePooling1D)                                                                        \n",
      "                                                                                                  \n",
      " global_average_pooling1d (  (None, 8)                    0         ['max_pooling1d[0][0]']       \n",
      " GlobalAveragePooling1D)                                                                          \n",
      "                                                                                                  \n",
      " tf.__operators__.getitem_1  (None, 1)                    0         ['reshape[0][0]']             \n",
      "  (SlicingOpLambda)                                                                               \n",
      "                                                                                                  \n",
      " flatten (Flatten)           (None, 1)                    0         ['global_average_pooling1d_1[0\n",
      "                                                                    ][0]']                        \n",
      "                                                                                                  \n",
      " concatenate (Concatenate)   (None, 10)                   0         ['global_average_pooling1d[0][\n",
      "                                                                    0]',                          \n",
      "                                                                     'tf.__operators__.getitem_1[0\n",
      "                                                                    ][0]',                        \n",
      "                                                                     'flatten[0][0]']             \n",
      "                                                                                                  \n",
      " dense (Dense)               (None, 1)                    11        ['concatenate[0][0]']         \n",
      "                                                                                                  \n",
      "==================================================================================================\n",
      "Total params: 691 (2.70 KB)\n",
      "Trainable params: 691 (2.70 KB)\n",
      "Non-trainable params: 0 (0.00 Byte)\n",
      "__________________________________________________________________________________________________\n"
     ]
    }
   ],
   "source": [
    "def create_conv_model():\n",
    "    inputs = keras.Input(shape=(sequence_length, raw_data.shape[-1]))\n",
    "\n",
    "    # Concatenate three consecutive time steps to capture temporal dependencies\n",
    "  #  x = layers.Concatenate()([inputs[:, 0:-2, :], inputs[:, 1:-1, :], inputs[:, 2:, :]])\n",
    "\n",
    "    # Apply seasonality estimation\n",
    "    seasonality_branch = layers.Conv1D(8, 6, activation=\"relu\")(inputs)\n",
    "    seasonality_branch = layers.MaxPooling1D(2)(seasonality_branch)\n",
    "    seasonality_branch = layers.GlobalAveragePooling1D()(seasonality_branch)\n",
    "\n",
    "    # Naive Estimation\n",
    "    temps = inputs[:, :, 1] * std[1] + mean[1]\n",
    "    temps = layers.Reshape(temps.shape[1:] + (1,))(temps)\n",
    "    naive_est = temps[:, -1, :]\n",
    "\n",
    "    # Apply mean estimation\n",
    "    mean_est = inputs[:, :, 1] * std[1] + mean[1]\n",
    "    mean_est = layers.Reshape(mean_est.shape[1:] + (1,))(mean_est)\n",
    "    mean_est = layers.GlobalAveragePooling1D()(mean_est)\n",
    "    mean_est = layers.Flatten()(mean_est)\n",
    "\n",
    "    x = layers.Concatenate()([seasonality_branch, naive_est, mean_est])\n",
    "\n",
    "    outputs = layers.Dense(1)(x)\n",
    "\n",
    "    model = keras.Model(inputs, outputs)\n",
    "\n",
    "    return model\n",
    "\n",
    "conv_model = create_conv_model()\n",
    "\n",
    "conv_model.summary()"
   ]
  },
  {
   "cell_type": "code",
   "execution_count": 22,
   "id": "927242f5-64fe-4725-aa06-904333762999",
   "metadata": {},
   "outputs": [
    {
     "name": "stdout",
     "output_type": "stream",
     "text": [
      "Epoch 1/50\n"
     ]
    },
    {
     "name": "stderr",
     "output_type": "stream",
     "text": [
      "2023-12-05 15:42:17.198062: I external/local_xla/xla/service/service.cc:168] XLA service 0x55f8779e95c0 initialized for platform CUDA (this does not guarantee that XLA will be used). Devices:\n",
      "2023-12-05 15:42:17.198079: I external/local_xla/xla/service/service.cc:176]   StreamExecutor device (0): NVIDIA GeForce RTX 3090, Compute Capability 8.6\n",
      "2023-12-05 15:42:17.204545: I tensorflow/compiler/mlir/tensorflow/utils/dump_mlir_util.cc:269] disabling MLIR crash reproducer, set env var `MLIR_CRASH_REPRODUCER_DIRECTORY` to enable.\n",
      "WARNING: All log messages before absl::InitializeLog() is called are written to STDERR\n",
      "I0000 00:00:1701801737.251040    6944 device_compiler.h:186] Compiled cluster using XLA!  This line is logged at most once for the lifetime of the process.\n"
     ]
    },
    {
     "name": "stdout",
     "output_type": "stream",
     "text": [
      "410/410 [==============================] - 5s 9ms/step - loss: 17.2893 - mae: 3.2344 - val_loss: 10.0413 - val_mae: 2.4977\n",
      "Epoch 2/50\n",
      "410/410 [==============================] - 4s 9ms/step - loss: 11.0165 - mae: 2.6135 - val_loss: 9.4228 - val_mae: 2.3986\n",
      "Epoch 3/50\n",
      "410/410 [==============================] - 4s 9ms/step - loss: 10.8688 - mae: 2.5853 - val_loss: 9.3513 - val_mae: 2.3867\n",
      "Epoch 4/50\n",
      "410/410 [==============================] - 4s 9ms/step - loss: 10.8199 - mae: 2.5781 - val_loss: 9.3368 - val_mae: 2.3845\n",
      "Epoch 5/50\n",
      "410/410 [==============================] - 4s 9ms/step - loss: 10.7739 - mae: 2.5722 - val_loss: 9.3385 - val_mae: 2.3843\n",
      "Epoch 6/50\n",
      "410/410 [==============================] - 4s 9ms/step - loss: 10.7353 - mae: 2.5673 - val_loss: 9.4041 - val_mae: 2.3903\n",
      "Epoch 7/50\n",
      "410/410 [==============================] - 4s 9ms/step - loss: 10.7015 - mae: 2.5629 - val_loss: 9.4896 - val_mae: 2.4006\n",
      "Epoch 8/50\n",
      "410/410 [==============================] - 4s 9ms/step - loss: 10.6679 - mae: 2.5588 - val_loss: 9.2884 - val_mae: 2.3770\n",
      "Epoch 9/50\n",
      "410/410 [==============================] - 4s 9ms/step - loss: 10.6423 - mae: 2.5556 - val_loss: 9.3485 - val_mae: 2.3815\n",
      "Epoch 10/50\n",
      "410/410 [==============================] - 4s 9ms/step - loss: 10.6140 - mae: 2.5519 - val_loss: 9.3122 - val_mae: 2.3791\n",
      "Epoch 11/50\n",
      "410/410 [==============================] - 4s 9ms/step - loss: 10.5912 - mae: 2.5490 - val_loss: 9.3081 - val_mae: 2.3777\n",
      "Epoch 12/50\n",
      "410/410 [==============================] - 4s 9ms/step - loss: 10.5683 - mae: 2.5465 - val_loss: 9.3679 - val_mae: 2.3855\n",
      "Epoch 13/50\n",
      "410/410 [==============================] - 4s 9ms/step - loss: 10.5457 - mae: 2.5432 - val_loss: 9.4034 - val_mae: 2.3921\n",
      "Epoch 14/50\n",
      "410/410 [==============================] - 4s 9ms/step - loss: 10.5285 - mae: 2.5417 - val_loss: 9.3211 - val_mae: 2.3796\n",
      "Epoch 15/50\n",
      "410/410 [==============================] - 4s 8ms/step - loss: 10.5091 - mae: 2.5397 - val_loss: 9.3623 - val_mae: 2.3818\n",
      "Epoch 16/50\n",
      "410/410 [==============================] - 4s 8ms/step - loss: 10.4941 - mae: 2.5380 - val_loss: 9.3831 - val_mae: 2.3833\n",
      "Epoch 17/50\n",
      "410/410 [==============================] - 4s 8ms/step - loss: 10.4801 - mae: 2.5362 - val_loss: 9.3574 - val_mae: 2.3798\n",
      "Epoch 18/50\n",
      "410/410 [==============================] - 4s 9ms/step - loss: 10.4633 - mae: 2.5347 - val_loss: 9.3628 - val_mae: 2.3831\n",
      "  1/203 [..............................] - ETA: 28s - loss: 11.2875 - mae: 2.7195"
     ]
    },
    {
     "name": "stderr",
     "output_type": "stream",
     "text": [
      "/home/alunos/.asdf/installs/python/3.11.4/lib/python3.11/site-packages/keras/src/engine/training.py:3103: UserWarning: You are saving your model as an HDF5 file via `model.save()`. This file format is considered legacy. We recommend using instead the native Keras format, e.g. `model.save('my_model.keras')`.\n",
      "  saving_api.save_model(\n"
     ]
    },
    {
     "name": "stdout",
     "output_type": "stream",
     "text": [
      "203/203 [==============================] - 1s 5ms/step - loss: 10.7444 - mae: 2.5710\n",
      "Test MAE: 2.57\n"
     ]
    }
   ],
   "source": [
    "conv_model.compile(optimizer=\"rmsprop\", loss=\"mse\", metrics=[\"mae\"])\n",
    "\n",
    "callbacks = [\n",
    "EarlyStopping(monitor='val_loss', patience=10, restore_best_weights=True)\n",
    "]\n",
    "\n",
    "conv_history = conv_model.fit(\n",
    "    train_dataset,\n",
    "    epochs=50,\n",
    "    validation_data=val_dataset,\n",
    "    callbacks=callbacks,\n",
    ")\n",
    "\n",
    "conv_model.save('./models/conv_model.h5')\n",
    "\n",
    "print(f\"Test MAE: {conv_model.evaluate(test_dataset)[1]:.2f}\")"
   ]
  },
  {
   "cell_type": "code",
   "execution_count": 23,
   "id": "23feb4eb-94a0-4366-8541-e2326238c01f",
   "metadata": {},
   "outputs": [
    {
     "data": {
      "image/png": "[encoded data removed]",
      "text/plain": [
       "<Figure size 640x480 with 1 Axes>"
      ]
     },
     "metadata": {},
     "output_type": "display_data"
    }
   ],
   "source": [
    "loss = conv_history.history[\"mae\"]\n",
    "val_loss = conv_history.history[\"val_mae\"]\n",
    "epochs = range(1, len(loss) + 1)\n",
    "plt.figure()\n",
    "plt.plot(epochs, loss, \"bo\", label=\"Training MAE\")\n",
    "plt.plot(epochs, val_loss, \"b\", label=\"Validation MAE\")\n",
    "plt.title(\"Training and validation MAE\")\n",
    "plt.legend()\n",
    "plt.show()"
   ]
  },
  {
   "cell_type": "markdown",
   "id": "8a981e2c-ca9e-470d-983f-041d0696f64a",
   "metadata": {
    "id": "8a981e2c-ca9e-470d-983f-041d0696f64a"
   },
   "source": [
    "## RNN with LSTM cell"
   ]
  },
  {
   "cell_type": "code",
   "execution_count": 27,
   "id": "02362bdd-9990-4895-9674-b8ea7450e777",
   "metadata": {
    "id": "02362bdd-9990-4895-9674-b8ea7450e777"
   },
   "outputs": [],
   "source": [
    "import keras\n",
    "from keras import layers"
   ]
  },
  {
   "cell_type": "code",
   "execution_count": 24,
   "id": "a816bf20-1772-4e43-8ecb-2c3ac34c3525",
   "metadata": {
    "id": "a816bf20-1772-4e43-8ecb-2c3ac34c3525"
   },
   "outputs": [],
   "source": [
    "inputs = keras.Input(shape=(sequence_length, raw_data.shape[-1]))\n",
    "x = layers.LSTM(8)(inputs)\n",
    "outputs = layers.Dense(1)(x)\n",
    "lstm_model = keras.Model(inputs, outputs)"
   ]
  },
  {
   "cell_type": "code",
   "execution_count": 25,
   "id": "f0a627d3-eb5a-41e8-b03c-0a390b336d67",
   "metadata": {
    "id": "f0a627d3-eb5a-41e8-b03c-0a390b336d67",
    "outputId": "508f19f2-c6bb-4407-92fe-882d913b8fab"
   },
   "outputs": [
    {
     "name": "stdout",
     "output_type": "stream",
     "text": [
      "Model: \"model_3\"\n",
      "_________________________________________________________________\n",
      " Layer (type)                Output Shape              Param #   \n",
      "=================================================================\n",
      " input_4 (InputLayer)        [(None, 120, 14)]         0         \n",
      "                                                                 \n",
      " lstm_2 (LSTM)               (None, 8)                 736       \n",
      "                                                                 \n",
      " dense_3 (Dense)             (None, 1)                 9         \n",
      "                                                                 \n",
      "=================================================================\n",
      "Total params: 745 (2.91 KB)\n",
      "Trainable params: 745 (2.91 KB)\n",
      "Non-trainable params: 0 (0.00 Byte)\n",
      "_________________________________________________________________\n"
     ]
    }
   ],
   "source": [
    "lstm_model.summary()"
   ]
  },
  {
   "cell_type": "code",
   "execution_count": 27,
   "id": "97c4fbcd-6e12-4122-b537-56be1be2d774",
   "metadata": {
    "id": "97c4fbcd-6e12-4122-b537-56be1be2d774",
    "outputId": "13f74fff-95c8-4cc6-b004-cc8966366ea3"
   },
   "outputs": [
    {
     "name": "stdout",
     "output_type": "stream",
     "text": [
      "Epoch 1/50\n",
      "410/410 [==============================] - 5s 10ms/step - loss: 94.8577 - mae: 7.7310 - val_loss: 63.2804 - val_mae: 6.1318\n",
      "Epoch 2/50\n",
      "410/410 [==============================] - 4s 9ms/step - loss: 49.9718 - mae: 5.3541 - val_loss: 38.8608 - val_mae: 4.6573\n",
      "Epoch 3/50\n",
      "410/410 [==============================] - 4s 9ms/step - loss: 32.6719 - mae: 4.2448 - val_loss: 26.2716 - val_mae: 3.7861\n",
      "Epoch 4/50\n",
      "410/410 [==============================] - 4s 9ms/step - loss: 23.2412 - mae: 3.5704 - val_loss: 19.5278 - val_mae: 3.2680\n",
      "Epoch 5/50\n",
      "410/410 [==============================] - 4s 9ms/step - loss: 18.0657 - mae: 3.1747 - val_loss: 15.6663 - val_mae: 2.9450\n",
      "Epoch 6/50\n",
      "410/410 [==============================] - 4s 9ms/step - loss: 15.1041 - mae: 2.9335 - val_loss: 13.3640 - val_mae: 2.7487\n",
      "Epoch 7/50\n",
      "410/410 [==============================] - 4s 9ms/step - loss: 13.3404 - mae: 2.7853 - val_loss: 12.0531 - val_mae: 2.6372\n",
      "Epoch 8/50\n",
      "410/410 [==============================] - 4s 9ms/step - loss: 12.3187 - mae: 2.6989 - val_loss: 11.2362 - val_mae: 2.5698\n",
      "Epoch 9/50\n",
      "410/410 [==============================] - 4s 9ms/step - loss: 11.5523 - mae: 2.6233 - val_loss: 10.5635 - val_mae: 2.5029\n",
      "Epoch 10/50\n",
      "410/410 [==============================] - 4s 9ms/step - loss: 11.0038 - mae: 2.5670 - val_loss: 10.1363 - val_mae: 2.4576\n",
      "Epoch 11/50\n",
      "410/410 [==============================] - 4s 9ms/step - loss: 10.5901 - mae: 2.5208 - val_loss: 9.9414 - val_mae: 2.4402\n",
      "Epoch 12/50\n",
      "410/410 [==============================] - 4s 9ms/step - loss: 10.2944 - mae: 2.4874 - val_loss: 9.8124 - val_mae: 2.4308\n",
      "Epoch 13/50\n",
      "410/410 [==============================] - 4s 9ms/step - loss: 10.1121 - mae: 2.4661 - val_loss: 9.6698 - val_mae: 2.4185\n",
      "Epoch 14/50\n",
      "410/410 [==============================] - 4s 9ms/step - loss: 9.9524 - mae: 2.4478 - val_loss: 9.6038 - val_mae: 2.4122\n",
      "Epoch 15/50\n",
      "410/410 [==============================] - 4s 9ms/step - loss: 9.8391 - mae: 2.4349 - val_loss: 9.4842 - val_mae: 2.3986\n",
      "Epoch 16/50\n",
      "410/410 [==============================] - 4s 9ms/step - loss: 9.7683 - mae: 2.4280 - val_loss: 10.5761 - val_mae: 2.5534\n",
      "Epoch 17/50\n",
      "410/410 [==============================] - 4s 9ms/step - loss: 9.8566 - mae: 2.4377 - val_loss: 9.2497 - val_mae: 2.3680\n",
      "Epoch 18/50\n",
      "410/410 [==============================] - 4s 9ms/step - loss: 9.7037 - mae: 2.4164 - val_loss: 9.2022 - val_mae: 2.3592\n",
      "Epoch 19/50\n",
      "410/410 [==============================] - 4s 9ms/step - loss: 9.6305 - mae: 2.4077 - val_loss: 9.1517 - val_mae: 2.3503\n",
      "Epoch 20/50\n",
      "410/410 [==============================] - 4s 9ms/step - loss: 9.4901 - mae: 2.3907 - val_loss: 9.1854 - val_mae: 2.3570\n",
      "Epoch 21/50\n",
      "410/410 [==============================] - 4s 9ms/step - loss: 9.4150 - mae: 2.3813 - val_loss: 9.2434 - val_mae: 2.3666\n",
      "Epoch 22/50\n",
      "410/410 [==============================] - 4s 9ms/step - loss: 9.3568 - mae: 2.3735 - val_loss: 9.2175 - val_mae: 2.3628\n",
      "Epoch 23/50\n",
      "410/410 [==============================] - 4s 9ms/step - loss: 9.3063 - mae: 2.3677 - val_loss: 9.2134 - val_mae: 2.3630\n",
      "Epoch 24/50\n",
      "410/410 [==============================] - 4s 9ms/step - loss: 9.2633 - mae: 2.3619 - val_loss: 9.2606 - val_mae: 2.3690\n",
      "Epoch 25/50\n",
      "410/410 [==============================] - 4s 9ms/step - loss: 9.3748 - mae: 2.3778 - val_loss: 9.2168 - val_mae: 2.3619\n",
      "Epoch 26/50\n",
      "410/410 [==============================] - 4s 9ms/step - loss: 9.2387 - mae: 2.3607 - val_loss: 9.1230 - val_mae: 2.3553\n",
      "Epoch 27/50\n",
      "410/410 [==============================] - 4s 9ms/step - loss: 9.4548 - mae: 2.3815 - val_loss: 9.1878 - val_mae: 2.3571\n",
      "Epoch 28/50\n",
      "410/410 [==============================] - 4s 9ms/step - loss: 9.1989 - mae: 2.3571 - val_loss: 9.1753 - val_mae: 2.3548\n",
      "Epoch 29/50\n",
      "410/410 [==============================] - 4s 9ms/step - loss: 9.1617 - mae: 2.3540 - val_loss: 9.1908 - val_mae: 2.3560\n",
      "Epoch 30/50\n",
      "410/410 [==============================] - 4s 9ms/step - loss: 9.1494 - mae: 2.3523 - val_loss: 9.1426 - val_mae: 2.3475\n",
      "Epoch 31/50\n",
      "410/410 [==============================] - 4s 9ms/step - loss: 9.0943 - mae: 2.3446 - val_loss: 9.1048 - val_mae: 2.3441\n",
      "Epoch 32/50\n",
      "410/410 [==============================] - 4s 9ms/step - loss: 9.0761 - mae: 2.3430 - val_loss: 9.1213 - val_mae: 2.3501\n",
      "Epoch 33/50\n",
      "410/410 [==============================] - 4s 9ms/step - loss: 9.0513 - mae: 2.3398 - val_loss: 9.1501 - val_mae: 2.3524\n",
      "Epoch 34/50\n",
      "410/410 [==============================] - 4s 9ms/step - loss: 9.0252 - mae: 2.3361 - val_loss: 9.2463 - val_mae: 2.3674\n",
      "Epoch 35/50\n",
      "410/410 [==============================] - 4s 9ms/step - loss: 9.0995 - mae: 2.3439 - val_loss: 9.1081 - val_mae: 2.3427\n",
      "Epoch 36/50\n",
      "410/410 [==============================] - 4s 9ms/step - loss: 9.0121 - mae: 2.3350 - val_loss: 9.0809 - val_mae: 2.3407\n",
      "Epoch 37/50\n",
      "410/410 [==============================] - 4s 9ms/step - loss: 8.9846 - mae: 2.3322 - val_loss: 9.1024 - val_mae: 2.3396\n",
      "Epoch 38/50\n",
      "410/410 [==============================] - 4s 9ms/step - loss: 9.0134 - mae: 2.3363 - val_loss: 9.1842 - val_mae: 2.3527\n",
      "Epoch 39/50\n",
      "410/410 [==============================] - 4s 9ms/step - loss: 8.9236 - mae: 2.3240 - val_loss: 9.2201 - val_mae: 2.3547\n",
      "Epoch 40/50\n",
      "410/410 [==============================] - 4s 9ms/step - loss: 8.8694 - mae: 2.3173 - val_loss: 9.2103 - val_mae: 2.3540\n",
      "Epoch 41/50\n",
      "410/410 [==============================] - 4s 9ms/step - loss: 8.8526 - mae: 2.3150 - val_loss: 9.1716 - val_mae: 2.3476\n",
      "Epoch 42/50\n",
      "410/410 [==============================] - 4s 9ms/step - loss: 9.0667 - mae: 2.3377 - val_loss: 9.2144 - val_mae: 2.3577\n",
      "Epoch 43/50\n",
      "410/410 [==============================] - 4s 9ms/step - loss: 9.0714 - mae: 2.3425 - val_loss: 9.2567 - val_mae: 2.3757\n",
      "Epoch 44/50\n",
      "410/410 [==============================] - 4s 9ms/step - loss: 9.2139 - mae: 2.3602 - val_loss: 9.1172 - val_mae: 2.3462\n",
      "Epoch 45/50\n",
      "410/410 [==============================] - 4s 9ms/step - loss: 8.9856 - mae: 2.3306 - val_loss: 9.1496 - val_mae: 2.3530\n",
      "Epoch 46/50\n",
      "410/410 [==============================] - 4s 9ms/step - loss: 8.9186 - mae: 2.3202 - val_loss: 9.1163 - val_mae: 2.3521\n",
      "203/203 [==============================] - 1s 5ms/step - loss: 10.9929 - mae: 2.5563\n",
      "Test MAE: 2.56\n"
     ]
    }
   ],
   "source": [
    "lstm_model.compile(optimizer=\"adam\", loss=\"mse\", metrics=[\"mae\"])\n",
    "early_stopping = EarlyStopping(monitor='val_loss', patience=10, restore_best_weights=True)\n",
    "history = lstm_model.fit(\n",
    "    train_dataset,\n",
    "    epochs=50,\n",
    "    validation_data=val_dataset,\n",
    "    callbacks = [early_stopping],\n",
    ")\n",
    "\n",
    "# lstm_model.save('./models/lstm_model.h5')\n",
    "\n",
    "print(f\"Test MAE: {lstm_model.evaluate(test_dataset)[1]:.2f}\")"
   ]
  },
  {
   "cell_type": "code",
   "execution_count": 28,
   "id": "a465007c-ef95-4830-bb1d-1e8e89db4750",
   "metadata": {
    "id": "a465007c-ef95-4830-bb1d-1e8e89db4750",
    "outputId": "e384709c-0fb2-4058-c2cc-461966b62c0f"
   },
   "outputs": [
    {
     "data": {
      "image/png": "[encoded data removed]",
      "text/plain": [
       "<Figure size 640x480 with 1 Axes>"
      ]
     },
     "metadata": {},
     "output_type": "display_data"
    }
   ],
   "source": [
    "loss = history.history[\"mae\"]\n",
    "val_loss = history.history[\"val_mae\"]\n",
    "val_loss = history.history[\"val_mae\"]\n",
    "epochs = range(1, len(loss) + 1)\n",
    "plt.figure()\n",
    "plt.plot(epochs, loss, \"bo\", label=\"Training MAE\")\n",
    "plt.plot(epochs, val_loss, \"b\", label=\"Validation MAE\")\n",
    "plt.title(\"Training and validation MAE\")\n",
    "plt.legend()\n",
    "plt.show()"
   ]
  },
  {
   "cell_type": "code",
   "execution_count": 29,
   "id": "2f9f4960-afd8-44ca-a806-439959485417",
   "metadata": {},
   "outputs": [
    {
     "name": "stdout",
     "output_type": "stream",
     "text": [
      "203/203 [==============================] - 2s 7ms/step - loss: 10.4181 - mae: 2.5325\n"
     ]
    },
    {
     "data": {
      "text/plain": [
       "2.532543659210205"
      ]
     },
     "execution_count": 29,
     "metadata": {},
     "output_type": "execute_result"
    }
   ],
   "source": [
    "last_lstm_model = tf.keras.models.load_model('./models/lstm_model.h5')\n",
    "last_lstm_model.evaluate(test_dataset)[1]"
   ]
  },
  {
   "cell_type": "markdown",
   "id": "82c9c914-c4eb-4cb6-b9dd-8b0be2828eb8",
   "metadata": {
    "id": "82c9c914-c4eb-4cb6-b9dd-8b0be2828eb8"
   },
   "source": [
    "## RNN with LSTM cell and recurrent dropout"
   ]
  },
  {
   "cell_type": "code",
   "execution_count": 33,
   "id": "65d52fff-2254-4bc1-9d78-eae4f8474b2e",
   "metadata": {
    "id": "65d52fff-2254-4bc1-9d78-eae4f8474b2e"
   },
   "outputs": [
    {
     "name": "stdout",
     "output_type": "stream",
     "text": [
      "WARNING:tensorflow:Layer lstm_2 will not use cuDNN kernels since it doesn't meet the criteria. It will use a generic GPU kernel as fallback when running on GPU.\n",
      "Model: \"model_3\"\n",
      "_________________________________________________________________\n",
      " Layer (type)                Output Shape              Param #   \n",
      "=================================================================\n",
      " input_4 (InputLayer)        [(None, 120, 14)]         0         \n",
      "                                                                 \n",
      " lstm_2 (LSTM)               (None, 16)                1984      \n",
      "                                                                 \n",
      " dropout_1 (Dropout)         (None, 16)                0         \n",
      "                                                                 \n",
      " dense_3 (Dense)             (None, 1)                 17        \n",
      "                                                                 \n",
      "=================================================================\n",
      "Total params: 2001 (7.82 KB)\n",
      "Trainable params: 2001 (7.82 KB)\n",
      "Non-trainable params: 0 (0.00 Byte)\n",
      "_________________________________________________________________\n"
     ]
    }
   ],
   "source": [
    "inputs = keras.Input(shape=(sequence_length, raw_data.shape[-1]))\n",
    "x = layers.LSTM(16, recurrent_dropout=0.25)(inputs)\n",
    "x = layers.Dropout(0.5)(x)\n",
    "outputs = layers.Dense(1)(x)\n",
    "lstm_dropout_model = keras.Model(inputs, outputs)\n",
    "lstm_dropout_model.summary()"
   ]
  },
  {
   "cell_type": "code",
   "execution_count": 34,
   "id": "58164d81-2fe2-4dc9-99be-be29487a6a4f",
   "metadata": {
    "id": "58164d81-2fe2-4dc9-99be-be29487a6a4f",
    "outputId": "91dcd175-feb1-4f68-b720-b1dcd8f52e2f"
   },
   "outputs": [
    {
     "name": "stdout",
     "output_type": "stream",
     "text": [
      "Epoch 1/50\n",
      "410/410 [==============================] - 33s 77ms/step - loss: 66.2089 - mae: 6.2585 - val_loss: 29.6353 - val_mae: 4.0446\n",
      "Epoch 2/50\n",
      "410/410 [==============================] - 32s 77ms/step - loss: 30.2499 - mae: 4.1483 - val_loss: 17.3045 - val_mae: 3.0906\n",
      "Epoch 3/50\n",
      "410/410 [==============================] - 32s 77ms/step - loss: 23.7785 - mae: 3.7129 - val_loss: 13.2777 - val_mae: 2.7404\n",
      "Epoch 4/50\n",
      "410/410 [==============================] - 32s 77ms/step - loss: 21.2378 - mae: 3.5276 - val_loss: 12.1349 - val_mae: 2.6466\n",
      "Epoch 5/50\n",
      "410/410 [==============================] - 32s 77ms/step - loss: 19.9204 - mae: 3.4209 - val_loss: 10.7062 - val_mae: 2.5046\n",
      "Epoch 6/50\n",
      "410/410 [==============================] - 32s 77ms/step - loss: 19.0793 - mae: 3.3449 - val_loss: 10.2271 - val_mae: 2.4615\n",
      "Epoch 7/50\n",
      "410/410 [==============================] - 32s 77ms/step - loss: 18.5916 - mae: 3.3038 - val_loss: 9.8072 - val_mae: 2.4207\n",
      "Epoch 8/50\n",
      "410/410 [==============================] - 32s 77ms/step - loss: 18.0619 - mae: 3.2588 - val_loss: 9.7063 - val_mae: 2.4166\n",
      "Epoch 9/50\n",
      "410/410 [==============================] - 32s 77ms/step - loss: 17.7150 - mae: 3.2304 - val_loss: 9.5722 - val_mae: 2.4065\n",
      "Epoch 10/50\n",
      "410/410 [==============================] - 32s 77ms/step - loss: 17.5115 - mae: 3.2068 - val_loss: 9.6215 - val_mae: 2.4191\n",
      "Epoch 11/50\n",
      "410/410 [==============================] - 32s 77ms/step - loss: 17.1639 - mae: 3.1765 - val_loss: 9.5268 - val_mae: 2.4057\n",
      "Epoch 12/50\n",
      "410/410 [==============================] - 32s 78ms/step - loss: 16.7975 - mae: 3.1414 - val_loss: 9.4519 - val_mae: 2.3961\n",
      "Epoch 13/50\n",
      "410/410 [==============================] - 32s 77ms/step - loss: 16.6210 - mae: 3.1314 - val_loss: 9.5559 - val_mae: 2.4081\n",
      "Epoch 14/50\n",
      "410/410 [==============================] - 32s 77ms/step - loss: 16.3031 - mae: 3.1018 - val_loss: 9.5682 - val_mae: 2.4123\n",
      "Epoch 15/50\n",
      "410/410 [==============================] - 32s 77ms/step - loss: 16.0187 - mae: 3.0740 - val_loss: 9.5424 - val_mae: 2.4105\n",
      "Epoch 16/50\n",
      "410/410 [==============================] - 32s 77ms/step - loss: 15.8077 - mae: 3.0589 - val_loss: 9.2811 - val_mae: 2.3680\n",
      "Epoch 17/50\n",
      "410/410 [==============================] - 31s 77ms/step - loss: 15.5650 - mae: 3.0407 - val_loss: 9.2704 - val_mae: 2.3709\n",
      "Epoch 18/50\n",
      "410/410 [==============================] - 32s 77ms/step - loss: 15.3470 - mae: 3.0157 - val_loss: 9.3803 - val_mae: 2.3819\n",
      "Epoch 19/50\n",
      "410/410 [==============================] - 32s 78ms/step - loss: 15.0343 - mae: 2.9899 - val_loss: 9.4921 - val_mae: 2.3937\n",
      "Epoch 20/50\n",
      "410/410 [==============================] - 32s 78ms/step - loss: 14.8245 - mae: 2.9724 - val_loss: 9.4194 - val_mae: 2.3802\n",
      "Epoch 21/50\n",
      "410/410 [==============================] - 32s 77ms/step - loss: 14.8468 - mae: 2.9710 - val_loss: 9.2568 - val_mae: 2.3628\n",
      "Epoch 22/50\n",
      "410/410 [==============================] - 32s 77ms/step - loss: 14.5615 - mae: 2.9459 - val_loss: 9.7128 - val_mae: 2.4331\n",
      "Epoch 23/50\n",
      "410/410 [==============================] - 31s 76ms/step - loss: 14.7076 - mae: 2.9663 - val_loss: 9.2627 - val_mae: 2.3625\n",
      "Epoch 24/50\n",
      "410/410 [==============================] - 32s 78ms/step - loss: 14.4991 - mae: 2.9453 - val_loss: 8.8211 - val_mae: 2.2974\n",
      "Epoch 25/50\n",
      "410/410 [==============================] - 32s 78ms/step - loss: 14.3979 - mae: 2.9362 - val_loss: 9.1781 - val_mae: 2.3427\n",
      "Epoch 26/50\n",
      "410/410 [==============================] - 32s 77ms/step - loss: 14.2346 - mae: 2.9208 - val_loss: 8.9597 - val_mae: 2.3120\n",
      "Epoch 27/50\n",
      "410/410 [==============================] - 32s 77ms/step - loss: 14.1516 - mae: 2.9091 - val_loss: 9.0607 - val_mae: 2.3282\n",
      "Epoch 28/50\n",
      "410/410 [==============================] - 32s 78ms/step - loss: 13.9118 - mae: 2.8917 - val_loss: 9.1513 - val_mae: 2.3377\n",
      "Epoch 29/50\n",
      "410/410 [==============================] - 32s 77ms/step - loss: 13.8258 - mae: 2.8792 - val_loss: 9.2203 - val_mae: 2.3457\n",
      "Epoch 30/50\n",
      "410/410 [==============================] - 31s 76ms/step - loss: 13.8697 - mae: 2.8857 - val_loss: 9.1535 - val_mae: 2.3374\n",
      "Epoch 31/50\n",
      "410/410 [==============================] - 32s 77ms/step - loss: 13.7471 - mae: 2.8708 - val_loss: 9.3112 - val_mae: 2.3598\n",
      "Epoch 32/50\n",
      "410/410 [==============================] - 32s 77ms/step - loss: 13.7308 - mae: 2.8681 - val_loss: 9.2447 - val_mae: 2.3498\n",
      "Epoch 33/50\n",
      "410/410 [==============================] - 32s 77ms/step - loss: 13.6440 - mae: 2.8601 - val_loss: 9.1685 - val_mae: 2.3395\n",
      "Epoch 34/50\n",
      "410/410 [==============================] - 32s 77ms/step - loss: 13.6283 - mae: 2.8579 - val_loss: 9.1181 - val_mae: 2.3369\n",
      "203/203 [==============================] - 4s 18ms/step - loss: 10.2954 - mae: 2.5257\n",
      "Test MAE: 2.53\n"
     ]
    }
   ],
   "source": [
    "lstm_dropout_model.compile(optimizer=\"adam\", loss=\"mse\", metrics=[\"mae\"])\n",
    "early_stopping = EarlyStopping(monitor='val_loss', patience=10, restore_best_weights=True)\n",
    "history = lstm_dropout_model.fit(\n",
    "    train_dataset,\n",
    "    epochs=50,\n",
    "    validation_data=val_dataset,\n",
    "    callbacks = [early_stopping]\n",
    ")\n",
    "\n",
    "lstm_dropout_model.save('./models/lstm_dropout_model.h5')\n",
    "\n",
    "print(f\"Test MAE: {lstm_dropout_model.evaluate(test_dataset)[1]:.2f}\")"
   ]
  },
  {
   "cell_type": "code",
   "execution_count": 35,
   "id": "3a81b7a6-e117-4a98-88e2-206dac90c2e8",
   "metadata": {
    "id": "3a81b7a6-e117-4a98-88e2-206dac90c2e8",
    "outputId": "d5ea3fd3-9082-42a2-8572-5da5a3e54506"
   },
   "outputs": [
    {
     "data": {
      "image/png": "[encoded data removed]",
      "text/plain": [
       "<Figure size 640x480 with 1 Axes>"
      ]
     },
     "metadata": {},
     "output_type": "display_data"
    }
   ],
   "source": [
    "loss = history.history[\"mae\"]\n",
    "val_loss = history.history[\"val_mae\"]\n",
    "epochs = range(1, len(loss) + 1)\n",
    "plt.figure()\n",
    "plt.plot(epochs, loss, \"bo\", label=\"Training MAE\")\n",
    "plt.plot(epochs, val_loss, \"b\", label=\"Validation MAE\")\n",
    "plt.title(\"Training and validation MAE\")\n",
    "plt.legend()\n",
    "plt.show()"
   ]
  },
  {
   "cell_type": "markdown",
   "id": "0e4991b9-0a30-4836-8b8b-869246d0ffc2",
   "metadata": {},
   "source": [
    "## RNN with GRU cell:"
   ]
  },
  {
   "cell_type": "code",
   "execution_count": 38,
   "id": "1bda05de-06b1-47d5-9162-5768c75697f5",
   "metadata": {},
   "outputs": [
    {
     "name": "stdout",
     "output_type": "stream",
     "text": [
      "Model: \"model_5\"\n",
      "_________________________________________________________________\n",
      " Layer (type)                Output Shape              Param #   \n",
      "=================================================================\n",
      " input_6 (InputLayer)        [(None, 120, 14)]         0         \n",
      "                                                                 \n",
      " gru_1 (GRU)                 (None, 8)                 576       \n",
      "                                                                 \n",
      " dense_5 (Dense)             (None, 1)                 9         \n",
      "                                                                 \n",
      "=================================================================\n",
      "Total params: 585 (2.29 KB)\n",
      "Trainable params: 585 (2.29 KB)\n",
      "Non-trainable params: 0 (0.00 Byte)\n",
      "_________________________________________________________________\n"
     ]
    }
   ],
   "source": [
    "inputs = keras.Input(shape=(sequence_length, raw_data.shape[-1]))\n",
    "x = layers.GRU(8)(inputs)\n",
    "outputs = layers.Dense(1)(x)\n",
    "gru_model = keras.Model(inputs, outputs)\n",
    "gru_model.summary()"
   ]
  },
  {
   "cell_type": "code",
   "execution_count": 39,
   "id": "28ced0d6-75f0-4541-b54b-b717350bfbe0",
   "metadata": {},
   "outputs": [
    {
     "name": "stdout",
     "output_type": "stream",
     "text": [
      "Epoch 1/50\n",
      "410/410 [==============================] - 5s 10ms/step - loss: 89.8596 - mae: 7.5907 - val_loss: 56.8969 - val_mae: 5.7918\n",
      "Epoch 2/50\n",
      "410/410 [==============================] - 4s 9ms/step - loss: 42.5229 - mae: 4.8688 - val_loss: 34.4081 - val_mae: 4.3357\n",
      "Epoch 3/50\n",
      "410/410 [==============================] - 4s 9ms/step - loss: 27.6776 - mae: 3.8800 - val_loss: 23.4802 - val_mae: 3.5291\n",
      "Epoch 4/50\n",
      "410/410 [==============================] - 4s 9ms/step - loss: 20.2359 - mae: 3.3326 - val_loss: 17.9929 - val_mae: 3.1050\n",
      "Epoch 5/50\n",
      "410/410 [==============================] - 4s 9ms/step - loss: 16.2595 - mae: 3.0206 - val_loss: 14.8557 - val_mae: 2.8460\n",
      "Epoch 6/50\n",
      "410/410 [==============================] - 4s 9ms/step - loss: 13.9495 - mae: 2.8317 - val_loss: 12.9219 - val_mae: 2.6839\n",
      "Epoch 7/50\n",
      "410/410 [==============================] - 4s 9ms/step - loss: 12.5031 - mae: 2.7088 - val_loss: 11.6949 - val_mae: 2.5772\n",
      "Epoch 8/50\n",
      "410/410 [==============================] - 4s 9ms/step - loss: 11.5620 - mae: 2.6249 - val_loss: 11.1925 - val_mae: 2.5391\n",
      "Epoch 9/50\n",
      "410/410 [==============================] - 4s 9ms/step - loss: 10.9215 - mae: 2.5651 - val_loss: 10.5676 - val_mae: 2.4820\n",
      "Epoch 10/50\n",
      "410/410 [==============================] - 4s 9ms/step - loss: 10.4923 - mae: 2.5227 - val_loss: 10.2597 - val_mae: 2.4579\n",
      "Epoch 11/50\n",
      "410/410 [==============================] - 4s 9ms/step - loss: 10.1987 - mae: 2.4928 - val_loss: 10.2302 - val_mae: 2.4665\n",
      "Epoch 12/50\n",
      "410/410 [==============================] - 4s 9ms/step - loss: 9.9947 - mae: 2.4705 - val_loss: 10.1235 - val_mae: 2.4606\n",
      "Epoch 13/50\n",
      "410/410 [==============================] - 4s 9ms/step - loss: 9.8369 - mae: 2.4535 - val_loss: 9.9344 - val_mae: 2.4416\n",
      "Epoch 14/50\n",
      "410/410 [==============================] - 4s 9ms/step - loss: 9.7180 - mae: 2.4404 - val_loss: 9.8741 - val_mae: 2.4384\n",
      "Epoch 15/50\n",
      "410/410 [==============================] - 4s 9ms/step - loss: 9.6220 - mae: 2.4294 - val_loss: 9.7355 - val_mae: 2.4222\n",
      "Epoch 16/50\n",
      "410/410 [==============================] - 4s 9ms/step - loss: 9.5580 - mae: 2.4218 - val_loss: 9.8293 - val_mae: 2.4376\n",
      "Epoch 17/50\n",
      "410/410 [==============================] - 4s 9ms/step - loss: 9.4925 - mae: 2.4133 - val_loss: 9.5407 - val_mae: 2.4018\n",
      "Epoch 18/50\n",
      "410/410 [==============================] - 4s 9ms/step - loss: 9.4463 - mae: 2.4067 - val_loss: 9.4862 - val_mae: 2.3966\n",
      "Epoch 19/50\n",
      "410/410 [==============================] - 4s 9ms/step - loss: 9.3943 - mae: 2.3995 - val_loss: 9.4725 - val_mae: 2.3960\n",
      "Epoch 20/50\n",
      "410/410 [==============================] - 4s 9ms/step - loss: 9.3514 - mae: 2.3936 - val_loss: 9.5125 - val_mae: 2.4016\n",
      "Epoch 21/50\n",
      "410/410 [==============================] - 4s 9ms/step - loss: 9.3139 - mae: 2.3879 - val_loss: 9.4925 - val_mae: 2.3988\n",
      "Epoch 22/50\n",
      "410/410 [==============================] - 4s 9ms/step - loss: 9.2761 - mae: 2.3824 - val_loss: 9.4770 - val_mae: 2.3976\n",
      "Epoch 23/50\n",
      "410/410 [==============================] - 4s 9ms/step - loss: 9.2527 - mae: 2.3786 - val_loss: 9.4236 - val_mae: 2.3898\n",
      "Epoch 24/50\n",
      "410/410 [==============================] - 4s 9ms/step - loss: 9.1939 - mae: 2.3695 - val_loss: 9.4176 - val_mae: 2.3894\n",
      "Epoch 25/50\n",
      "410/410 [==============================] - 4s 9ms/step - loss: 9.1574 - mae: 2.3645 - val_loss: 9.4722 - val_mae: 2.3964\n",
      "Epoch 26/50\n",
      "410/410 [==============================] - 4s 9ms/step - loss: 9.1201 - mae: 2.3593 - val_loss: 9.4044 - val_mae: 2.3881\n",
      "Epoch 27/50\n",
      "410/410 [==============================] - 4s 9ms/step - loss: 9.0901 - mae: 2.3556 - val_loss: 9.3450 - val_mae: 2.3794\n",
      "Epoch 28/50\n",
      "410/410 [==============================] - 4s 9ms/step - loss: 9.0627 - mae: 2.3521 - val_loss: 9.4166 - val_mae: 2.3899\n",
      "Epoch 29/50\n",
      "410/410 [==============================] - 4s 9ms/step - loss: 9.0342 - mae: 2.3481 - val_loss: 9.5016 - val_mae: 2.3996\n",
      "Epoch 30/50\n",
      "410/410 [==============================] - 4s 9ms/step - loss: 9.0143 - mae: 2.3458 - val_loss: 9.4196 - val_mae: 2.3898\n",
      "Epoch 31/50\n",
      "410/410 [==============================] - 4s 9ms/step - loss: 8.9866 - mae: 2.3426 - val_loss: 9.4585 - val_mae: 2.3936\n",
      "Epoch 32/50\n",
      "410/410 [==============================] - 4s 9ms/step - loss: 8.9659 - mae: 2.3402 - val_loss: 9.4884 - val_mae: 2.3970\n",
      "Epoch 33/50\n",
      "410/410 [==============================] - 4s 9ms/step - loss: 8.9360 - mae: 2.3368 - val_loss: 9.4096 - val_mae: 2.3867\n",
      "Epoch 34/50\n",
      "410/410 [==============================] - 4s 9ms/step - loss: 8.9101 - mae: 2.3337 - val_loss: 9.4475 - val_mae: 2.3895\n",
      "Epoch 35/50\n",
      "410/410 [==============================] - 4s 9ms/step - loss: 8.8879 - mae: 2.3313 - val_loss: 9.5536 - val_mae: 2.4036\n",
      "Epoch 36/50\n",
      "410/410 [==============================] - 4s 9ms/step - loss: 8.8640 - mae: 2.3283 - val_loss: 9.5165 - val_mae: 2.3985\n",
      "Epoch 37/50\n",
      "410/410 [==============================] - 4s 9ms/step - loss: 8.8427 - mae: 2.3260 - val_loss: 9.4835 - val_mae: 2.3935\n",
      "203/203 [==============================] - 1s 6ms/step - loss: 10.2648 - mae: 2.5167\n",
      "Test MAE: 2.52\n"
     ]
    }
   ],
   "source": [
    "gru_model.compile(optimizer=\"adam\", loss=\"mse\", metrics=[\"mae\"])\n",
    "early_stopping = EarlyStopping(monitor='val_loss', patience=10, restore_best_weights=True)\n",
    "history = gru_model.fit(\n",
    "    train_dataset,\n",
    "    epochs=50,\n",
    "    validation_data=val_dataset,\n",
    "    callbacks = [early_stopping]\n",
    ")\n",
    "\n",
    "gru_model.save('./models/gru_model.h5')\n",
    "\n",
    "print(f\"Test MAE: {gru_model.evaluate(test_dataset)[1]:.2f}\")"
   ]
  },
  {
   "cell_type": "code",
   "execution_count": 40,
   "id": "5c7aef9f-ed44-4787-b88d-bdc405cdd73c",
   "metadata": {},
   "outputs": [
    {
     "data": {
      "image/png": "[encoded data removed]",
      "text/plain": [
       "<Figure size 640x480 with 1 Axes>"
      ]
     },
     "metadata": {},
     "output_type": "display_data"
    }
   ],
   "source": [
    "loss = history.history[\"mae\"]\n",
    "val_loss = history.history[\"val_mae\"]\n",
    "epochs = range(1, len(loss) + 1)\n",
    "plt.figure()\n",
    "plt.plot(epochs, loss, \"bo\", label=\"Training MAE\")\n",
    "plt.plot(epochs, val_loss, \"b\", label=\"Validation MAE\")\n",
    "plt.title(\"Training and validation MAE\")\n",
    "plt.legend()\n",
    "plt.show()"
   ]
  },
  {
   "cell_type": "markdown",
   "id": "bccdfdec-2328-4512-b725-763a62eb4150",
   "metadata": {},
   "source": [
    "## RNN with GRU cell and recurrent dropout:"
   ]
  },
  {
   "cell_type": "code",
   "execution_count": 41,
   "id": "a90d60ac-b2f0-401c-bc24-e28f4037622f",
   "metadata": {},
   "outputs": [
    {
     "name": "stdout",
     "output_type": "stream",
     "text": [
      "WARNING:tensorflow:Layer lstm_3 will not use cuDNN kernels since it doesn't meet the criteria. It will use a generic GPU kernel as fallback when running on GPU.\n",
      "Model: \"model_6\"\n",
      "_________________________________________________________________\n",
      " Layer (type)                Output Shape              Param #   \n",
      "=================================================================\n",
      " input_7 (InputLayer)        [(None, 120, 14)]         0         \n",
      "                                                                 \n",
      " lstm_3 (LSTM)               (None, 16)                1984      \n",
      "                                                                 \n",
      " dropout_2 (Dropout)         (None, 16)                0         \n",
      "                                                                 \n",
      " dense_6 (Dense)             (None, 1)                 17        \n",
      "                                                                 \n",
      "=================================================================\n",
      "Total params: 2001 (7.82 KB)\n",
      "Trainable params: 2001 (7.82 KB)\n",
      "Non-trainable params: 0 (0.00 Byte)\n",
      "_________________________________________________________________\n"
     ]
    }
   ],
   "source": [
    "inputs = keras.Input(shape=(sequence_length, raw_data.shape[-1]))\n",
    "x = layers.LSTM(16, recurrent_dropout=0.25)(inputs)\n",
    "x = layers.Dropout(0.5)(x)\n",
    "outputs = layers.Dense(1)(x)\n",
    "gru_dropout_model = keras.Model(inputs, outputs)\n",
    "gru_dropout_model.summary()"
   ]
  },
  {
   "cell_type": "code",
   "execution_count": 42,
   "id": "48f8e29e-b644-417c-bed5-d08f3f549840",
   "metadata": {},
   "outputs": [
    {
     "name": "stdout",
     "output_type": "stream",
     "text": [
      "Epoch 1/50\n",
      "410/410 [==============================] - 33s 77ms/step - loss: 76.4170 - mae: 6.7682 - val_loss: 38.4760 - val_mae: 4.6554\n",
      "Epoch 2/50\n",
      "410/410 [==============================] - 31s 76ms/step - loss: 34.7686 - mae: 4.4185 - val_loss: 21.0968 - val_mae: 3.3881\n",
      "Epoch 3/50\n",
      "410/410 [==============================] - 32s 77ms/step - loss: 25.7277 - mae: 3.8266 - val_loss: 15.4688 - val_mae: 2.9321\n",
      "Epoch 4/50\n",
      "410/410 [==============================] - 31s 76ms/step - loss: 22.3229 - mae: 3.5915 - val_loss: 12.8084 - val_mae: 2.7005\n",
      "Epoch 5/50\n",
      "410/410 [==============================] - 32s 77ms/step - loss: 20.7097 - mae: 3.4726 - val_loss: 11.5757 - val_mae: 2.5977\n",
      "Epoch 6/50\n",
      "410/410 [==============================] - 32s 77ms/step - loss: 19.6202 - mae: 3.3845 - val_loss: 10.7424 - val_mae: 2.5190\n",
      "Epoch 7/50\n",
      "410/410 [==============================] - 32s 77ms/step - loss: 19.0040 - mae: 3.3335 - val_loss: 10.1233 - val_mae: 2.4577\n",
      "Epoch 8/50\n",
      "410/410 [==============================] - 32s 77ms/step - loss: 18.5614 - mae: 3.2950 - val_loss: 10.0243 - val_mae: 2.4547\n",
      "Epoch 9/50\n",
      "410/410 [==============================] - 32s 77ms/step - loss: 18.1557 - mae: 3.2566 - val_loss: 9.4931 - val_mae: 2.3879\n",
      "Epoch 10/50\n",
      "410/410 [==============================] - 32s 77ms/step - loss: 17.7803 - mae: 3.2226 - val_loss: 9.5067 - val_mae: 2.3913\n",
      "Epoch 11/50\n",
      "410/410 [==============================] - 31s 76ms/step - loss: 17.3228 - mae: 3.1815 - val_loss: 9.6096 - val_mae: 2.3999\n",
      "Epoch 12/50\n",
      "410/410 [==============================] - 32s 77ms/step - loss: 16.8865 - mae: 3.1443 - val_loss: 9.5823 - val_mae: 2.3972\n",
      "Epoch 13/50\n",
      "410/410 [==============================] - 32s 77ms/step - loss: 16.5202 - mae: 3.1127 - val_loss: 9.3108 - val_mae: 2.3617\n",
      "Epoch 14/50\n",
      "410/410 [==============================] - 32s 77ms/step - loss: 16.0548 - mae: 3.0774 - val_loss: 9.4383 - val_mae: 2.3830\n",
      "Epoch 15/50\n",
      "410/410 [==============================] - 32s 78ms/step - loss: 15.7750 - mae: 3.0513 - val_loss: 9.2936 - val_mae: 2.3658\n",
      "Epoch 16/50\n",
      "410/410 [==============================] - 32s 79ms/step - loss: 15.4668 - mae: 3.0237 - val_loss: 9.1803 - val_mae: 2.3519\n",
      "Epoch 17/50\n",
      "410/410 [==============================] - 32s 78ms/step - loss: 15.2546 - mae: 3.0012 - val_loss: 9.2947 - val_mae: 2.3694\n",
      "Epoch 18/50\n",
      "410/410 [==============================] - 32s 79ms/step - loss: 15.0751 - mae: 2.9886 - val_loss: 9.0902 - val_mae: 2.3425\n",
      "Epoch 19/50\n",
      "410/410 [==============================] - 32s 78ms/step - loss: 14.8378 - mae: 2.9641 - val_loss: 9.4109 - val_mae: 2.3850\n",
      "Epoch 20/50\n",
      "410/410 [==============================] - 32s 78ms/step - loss: 14.6989 - mae: 2.9505 - val_loss: 9.1391 - val_mae: 2.3470\n",
      "Epoch 21/50\n",
      "410/410 [==============================] - 32s 78ms/step - loss: 14.5329 - mae: 2.9314 - val_loss: 9.3918 - val_mae: 2.3789\n",
      "Epoch 22/50\n",
      "410/410 [==============================] - 32s 78ms/step - loss: 14.4019 - mae: 2.9301 - val_loss: 9.4766 - val_mae: 2.3927\n",
      "Epoch 23/50\n",
      "410/410 [==============================] - 32s 77ms/step - loss: 14.2698 - mae: 2.9123 - val_loss: 9.3017 - val_mae: 2.3657\n",
      "Epoch 24/50\n",
      "410/410 [==============================] - 32s 78ms/step - loss: 14.1552 - mae: 2.9033 - val_loss: 9.2396 - val_mae: 2.3616\n",
      "Epoch 25/50\n",
      "410/410 [==============================] - 32s 78ms/step - loss: 14.0662 - mae: 2.8944 - val_loss: 9.0998 - val_mae: 2.3364\n",
      "Epoch 26/50\n",
      "410/410 [==============================] - 32s 78ms/step - loss: 13.9575 - mae: 2.8827 - val_loss: 9.0913 - val_mae: 2.3411\n",
      "Epoch 27/50\n",
      "410/410 [==============================] - 32s 78ms/step - loss: 13.9158 - mae: 2.8770 - val_loss: 9.0572 - val_mae: 2.3321\n",
      "Epoch 28/50\n",
      "410/410 [==============================] - 32s 78ms/step - loss: 13.8036 - mae: 2.8664 - val_loss: 9.3940 - val_mae: 2.3788\n",
      "Epoch 29/50\n",
      "410/410 [==============================] - 32s 78ms/step - loss: 13.7303 - mae: 2.8601 - val_loss: 9.3334 - val_mae: 2.3654\n",
      "Epoch 30/50\n",
      "410/410 [==============================] - 32s 78ms/step - loss: 13.6246 - mae: 2.8547 - val_loss: 9.3788 - val_mae: 2.3741\n",
      "Epoch 31/50\n",
      "410/410 [==============================] - 32s 78ms/step - loss: 13.6504 - mae: 2.8525 - val_loss: 9.3265 - val_mae: 2.3689\n",
      "Epoch 32/50\n",
      "410/410 [==============================] - 32s 78ms/step - loss: 13.6022 - mae: 2.8478 - val_loss: 9.3271 - val_mae: 2.3691\n",
      "Epoch 33/50\n",
      "410/410 [==============================] - 32s 78ms/step - loss: 13.5394 - mae: 2.8413 - val_loss: 9.3340 - val_mae: 2.3660\n",
      "Epoch 34/50\n",
      "410/410 [==============================] - 32s 77ms/step - loss: 13.5687 - mae: 2.8471 - val_loss: 9.2761 - val_mae: 2.3622\n",
      "Epoch 35/50\n",
      "410/410 [==============================] - 32s 78ms/step - loss: 13.4504 - mae: 2.8332 - val_loss: 9.3272 - val_mae: 2.3703\n",
      "Epoch 36/50\n",
      "410/410 [==============================] - 32s 78ms/step - loss: 13.5225 - mae: 2.8386 - val_loss: 9.5553 - val_mae: 2.4046\n",
      "Epoch 37/50\n",
      "410/410 [==============================] - 32s 78ms/step - loss: 13.3662 - mae: 2.8221 - val_loss: 9.5448 - val_mae: 2.3987\n",
      "203/203 [==============================] - 4s 21ms/step - loss: 10.2100 - mae: 2.5074\n",
      "Test MAE: 2.51\n"
     ]
    }
   ],
   "source": [
    "gru_dropout_model.compile(optimizer=\"adam\", loss=\"mse\", metrics=[\"mae\"])\n",
    "early_stopping = EarlyStopping(monitor='val_loss', patience=10, restore_best_weights=True)\n",
    "history = gru_dropout_model.fit(\n",
    "    train_dataset,\n",
    "    epochs=50,\n",
    "    validation_data=val_dataset,\n",
    "    callbacks = [early_stopping]\n",
    ")\n",
    "\n",
    "gru_dropout_model.save('./models/gru_dropout_model.h5')\n",
    "\n",
    "print(f\"Test MAE: {gru_dropout_model.evaluate(test_dataset)[1]:.2f}\")"
   ]
  },
  {
   "cell_type": "code",
   "execution_count": 43,
   "id": "3db4de89-43f7-4f2a-bb9e-0e9d7964961f",
   "metadata": {},
   "outputs": [
    {
     "data": {
      "image/png": "[encoded data removed]",
      "text/plain": [
       "<Figure size 640x480 with 1 Axes>"
      ]
     },
     "metadata": {},
     "output_type": "display_data"
    }
   ],
   "source": [
    "loss = history.history[\"mae\"]\n",
    "val_loss = history.history[\"val_mae\"]\n",
    "epochs = range(1, len(loss) + 1)\n",
    "plt.figure()\n",
    "plt.plot(epochs, loss, \"bo\", label=\"Training MAE\")\n",
    "plt.plot(epochs, val_loss, \"b\", label=\"Validation MAE\")\n",
    "plt.title(\"Training and validation MAE\")\n",
    "plt.legend()\n",
    "plt.show()"
   ]
  },
  {
   "cell_type": "markdown",
   "id": "82c8de33-0a2c-42c1-8f70-cc8c9763bdbc",
   "metadata": {
    "id": "82c8de33-0a2c-42c1-8f70-cc8c9763bdbc"
   },
   "source": [
    "## Stacked RNN layers"
   ]
  },
  {
   "cell_type": "code",
   "execution_count": 56,
   "id": "8365803a-8f16-4316-954d-8f16c51781ce",
   "metadata": {
    "id": "8365803a-8f16-4316-954d-8f16c51781ce",
    "outputId": "9518d665-1d09-4c48-8194-ef677d955fdd"
   },
   "outputs": [
    {
     "name": "stdout",
     "output_type": "stream",
     "text": [
      "WARNING:tensorflow:Layer lstm_12 will not use cuDNN kernels since it doesn't meet the criteria. It will use a generic GPU kernel as fallback when running on GPU.\n",
      "WARNING:tensorflow:Layer lstm_13 will not use cuDNN kernels since it doesn't meet the criteria. It will use a generic GPU kernel as fallback when running on GPU.\n",
      "Model: \"model_11\"\n",
      "_________________________________________________________________\n",
      " Layer (type)                Output Shape              Param #   \n",
      "=================================================================\n",
      " input_12 (InputLayer)       [(None, 120, 14)]         0         \n",
      "                                                                 \n",
      " lstm_12 (LSTM)              (None, 120, 8)            736       \n",
      "                                                                 \n",
      " lstm_13 (LSTM)              (None, 8)                 544       \n",
      "                                                                 \n",
      " dropout_7 (Dropout)         (None, 8)                 0         \n",
      "                                                                 \n",
      " dense_11 (Dense)            (None, 1)                 9         \n",
      "                                                                 \n",
      "=================================================================\n",
      "Total params: 1289 (5.04 KB)\n",
      "Trainable params: 1289 (5.04 KB)\n",
      "Non-trainable params: 0 (0.00 Byte)\n",
      "_________________________________________________________________\n"
     ]
    }
   ],
   "source": [
    "inputs = keras.Input(shape=(sequence_length, raw_data.shape[-1]))\n",
    "x = layers.LSTM(8, recurrent_dropout=0.5, return_sequences=True)(inputs)\n",
    "x = layers.LSTM(8, recurrent_dropout=0.5)(x)\n",
    "x = layers.Dropout(0.5)(x)\n",
    "outputs = layers.Dense(1)(x)\n",
    "stacked_rnn2_model = keras.Model(inputs, outputs)\n",
    "\n",
    "stacked_rnn2_model.summary()"
   ]
  },
  {
   "cell_type": "code",
   "execution_count": 57,
   "id": "3daa4b83-cdf3-4200-badb-ea4a2f459fa1",
   "metadata": {},
   "outputs": [
    {
     "name": "stdout",
     "output_type": "stream",
     "text": [
      "Epoch 1/50\n",
      "410/410 [==============================] - 62s 147ms/step - loss: 89.5888 - mae: 7.4415 - val_loss: 54.7842 - val_mae: 5.6579\n",
      "Epoch 2/50\n",
      "410/410 [==============================] - 60s 147ms/step - loss: 50.5572 - mae: 5.3959 - val_loss: 34.5297 - val_mae: 4.3747\n",
      "Epoch 3/50\n",
      "410/410 [==============================] - 60s 146ms/step - loss: 38.5885 - mae: 4.6593 - val_loss: 24.2716 - val_mae: 3.6181\n",
      "Epoch 4/50\n",
      "410/410 [==============================] - 61s 148ms/step - loss: 32.3387 - mae: 4.2602 - val_loss: 18.8772 - val_mae: 3.1896\n",
      "Epoch 5/50\n",
      "410/410 [==============================] - 60s 146ms/step - loss: 28.9524 - mae: 4.0399 - val_loss: 15.8354 - val_mae: 2.9442\n",
      "Epoch 6/50\n",
      "410/410 [==============================] - 60s 146ms/step - loss: 26.9706 - mae: 3.9058 - val_loss: 14.1018 - val_mae: 2.8037\n",
      "Epoch 7/50\n",
      "410/410 [==============================] - 60s 146ms/step - loss: 25.3612 - mae: 3.7992 - val_loss: 12.9426 - val_mae: 2.7089\n",
      "Epoch 8/50\n",
      "410/410 [==============================] - 60s 147ms/step - loss: 24.5237 - mae: 3.7382 - val_loss: 12.2679 - val_mae: 2.6607\n",
      "Epoch 9/50\n",
      "410/410 [==============================] - 61s 148ms/step - loss: 23.5691 - mae: 3.6726 - val_loss: 11.4871 - val_mae: 2.5848\n",
      "Epoch 10/50\n",
      "410/410 [==============================] - 61s 148ms/step - loss: 23.0500 - mae: 3.6293 - val_loss: 11.2357 - val_mae: 2.5701\n",
      "Epoch 11/50\n",
      "410/410 [==============================] - 60s 146ms/step - loss: 22.4037 - mae: 3.5834 - val_loss: 10.7696 - val_mae: 2.5232\n",
      "Epoch 12/50\n",
      "410/410 [==============================] - 60s 145ms/step - loss: 21.8348 - mae: 3.5423 - val_loss: 10.8392 - val_mae: 2.5415\n",
      "Epoch 13/50\n",
      "410/410 [==============================] - 60s 146ms/step - loss: 21.4188 - mae: 3.5037 - val_loss: 10.4713 - val_mae: 2.4983\n",
      "Epoch 14/50\n",
      "410/410 [==============================] - 60s 146ms/step - loss: 20.8477 - mae: 3.4621 - val_loss: 10.1569 - val_mae: 2.4621\n",
      "Epoch 15/50\n",
      "410/410 [==============================] - 60s 146ms/step - loss: 20.4505 - mae: 3.4275 - val_loss: 10.1566 - val_mae: 2.4633\n",
      "Epoch 16/50\n",
      "410/410 [==============================] - 60s 147ms/step - loss: 19.8759 - mae: 3.3887 - val_loss: 9.9878 - val_mae: 2.4459\n",
      "Epoch 17/50\n",
      "410/410 [==============================] - 61s 148ms/step - loss: 19.5370 - mae: 3.3578 - val_loss: 9.9281 - val_mae: 2.4379\n",
      "Epoch 18/50\n",
      "410/410 [==============================] - 60s 147ms/step - loss: 19.1153 - mae: 3.3262 - val_loss: 9.7039 - val_mae: 2.4079\n",
      "Epoch 19/50\n",
      "410/410 [==============================] - 61s 148ms/step - loss: 18.8069 - mae: 3.2994 - val_loss: 9.7618 - val_mae: 2.4199\n",
      "Epoch 20/50\n",
      "410/410 [==============================] - 62s 150ms/step - loss: 18.6654 - mae: 3.2852 - val_loss: 9.5872 - val_mae: 2.3974\n",
      "Epoch 21/50\n",
      "410/410 [==============================] - 61s 148ms/step - loss: 18.3446 - mae: 3.2561 - val_loss: 9.8762 - val_mae: 2.4394\n",
      "Epoch 22/50\n",
      "410/410 [==============================] - 61s 148ms/step - loss: 18.0055 - mae: 3.2308 - val_loss: 9.5448 - val_mae: 2.3951\n",
      "Epoch 23/50\n",
      "410/410 [==============================] - 60s 146ms/step - loss: 17.8111 - mae: 3.2182 - val_loss: 9.5903 - val_mae: 2.4030\n",
      "Epoch 24/50\n",
      "410/410 [==============================] - 60s 147ms/step - loss: 17.5623 - mae: 3.1969 - val_loss: 9.4944 - val_mae: 2.3912\n",
      "Epoch 25/50\n",
      "410/410 [==============================] - 60s 145ms/step - loss: 17.4159 - mae: 3.1832 - val_loss: 9.5850 - val_mae: 2.3959\n",
      "Epoch 26/50\n",
      "410/410 [==============================] - 62s 150ms/step - loss: 17.4274 - mae: 3.1812 - val_loss: 9.4714 - val_mae: 2.3868\n",
      "Epoch 27/50\n",
      "410/410 [==============================] - 60s 147ms/step - loss: 17.3199 - mae: 3.1758 - val_loss: 9.3817 - val_mae: 2.3765\n",
      "Epoch 28/50\n",
      "410/410 [==============================] - 61s 148ms/step - loss: 17.0735 - mae: 3.1554 - val_loss: 9.6269 - val_mae: 2.4073\n",
      "Epoch 29/50\n",
      "410/410 [==============================] - 61s 148ms/step - loss: 16.9491 - mae: 3.1428 - val_loss: 9.4946 - val_mae: 2.3912\n",
      "Epoch 30/50\n",
      "410/410 [==============================] - 60s 147ms/step - loss: 17.0057 - mae: 3.1458 - val_loss: 9.4134 - val_mae: 2.3797\n",
      "Epoch 31/50\n",
      "410/410 [==============================] - 61s 148ms/step - loss: 16.9028 - mae: 3.1408 - val_loss: 9.4047 - val_mae: 2.3791\n",
      "Epoch 32/50\n",
      "410/410 [==============================] - 61s 148ms/step - loss: 16.8268 - mae: 3.1304 - val_loss: 9.5164 - val_mae: 2.3898\n",
      "Epoch 33/50\n",
      "410/410 [==============================] - 61s 148ms/step - loss: 16.7847 - mae: 3.1291 - val_loss: 9.6021 - val_mae: 2.4012\n",
      "Epoch 34/50\n",
      "410/410 [==============================] - 60s 147ms/step - loss: 16.9001 - mae: 3.1361 - val_loss: 9.4299 - val_mae: 2.3786\n",
      "Epoch 35/50\n",
      "410/410 [==============================] - 61s 149ms/step - loss: 16.7567 - mae: 3.1223 - val_loss: 9.4023 - val_mae: 2.3757\n",
      "Epoch 36/50\n",
      "410/410 [==============================] - 60s 146ms/step - loss: 16.8223 - mae: 3.1281 - val_loss: 9.6418 - val_mae: 2.4051\n",
      "Epoch 37/50\n",
      "410/410 [==============================] - 60s 146ms/step - loss: 16.7201 - mae: 3.1219 - val_loss: 9.5644 - val_mae: 2.3993\n",
      "203/203 [==============================] - 6s 27ms/step - loss: 10.8533 - mae: 2.5631\n",
      "Test MAE: 2.56\n"
     ]
    }
   ],
   "source": [
    "stacked_rnn2_model.compile(optimizer=\"adam\", loss=\"mse\", metrics=[\"mae\"])\n",
    "early_stopping = EarlyStopping(monitor='val_loss', patience=10, restore_best_weights=True)\n",
    "\n",
    "history = stacked_rnn2_model.fit(\n",
    "    train_dataset,\n",
    "    epochs=50,\n",
    "    validation_data=val_dataset,\n",
    "    callbacks=[early_stopping],\n",
    ")\n",
    "print(f\"Test MAE: {stacked_rnn2_model.evaluate(test_dataset)[1]:.2f}\")"
   ]
  },
  {
   "cell_type": "code",
   "execution_count": 58,
   "id": "ac04baf4-b517-4fd8-972f-2a4b08903744",
   "metadata": {},
   "outputs": [],
   "source": [
    "stacked_rnn2_model.save('./models/stacked_rnn2_model.h5')"
   ]
  },
  {
   "cell_type": "code",
   "execution_count": 59,
   "id": "617b5621-64f3-42ee-a191-811bfc909bbd",
   "metadata": {},
   "outputs": [
    {
     "data": {
      "image/png": "[encoded data removed]",
      "text/plain": [
       "<Figure size 640x480 with 1 Axes>"
      ]
     },
     "metadata": {},
     "output_type": "display_data"
    }
   ],
   "source": [
    "loss = history.history[\"mae\"]\n",
    "val_loss = history.history[\"val_mae\"]\n",
    "epochs = range(1, len(loss) + 1)\n",
    "plt.figure()\n",
    "plt.plot(epochs, loss, \"bo\", label=\"Training MAE\")\n",
    "plt.plot(epochs, val_loss, \"b\", label=\"Validation MAE\")\n",
    "plt.title(\"Training and validation MAE\")\n",
    "plt.legend()\n",
    "plt.show()"
   ]
  },
  {
   "cell_type": "markdown",
   "id": "5f405814-2248-409a-a21a-5f8cc5de1ebf",
   "metadata": {},
   "source": [
    "## Stacked RNN using GRU:"
   ]
  },
  {
   "cell_type": "code",
   "execution_count": 14,
   "id": "1e376b75-a231-4915-ad9a-796d16baa385",
   "metadata": {},
   "outputs": [
    {
     "name": "stdout",
     "output_type": "stream",
     "text": [
      "WARNING:tensorflow:Layer gru will not use cuDNN kernels since it doesn't meet the criteria. It will use a generic GPU kernel as fallback when running on GPU.\n",
      "WARNING:tensorflow:Layer gru_1 will not use cuDNN kernels since it doesn't meet the criteria. It will use a generic GPU kernel as fallback when running on GPU.\n",
      "Model: \"model\"\n",
      "_________________________________________________________________\n",
      " Layer (type)                Output Shape              Param #   \n",
      "=================================================================\n",
      " input_1 (InputLayer)        [(None, 120, 14)]         0         \n",
      "                                                                 \n",
      " gru (GRU)                   (None, 120, 8)            576       \n",
      "                                                                 \n",
      " gru_1 (GRU)                 (None, 8)                 432       \n",
      "                                                                 \n",
      " dropout (Dropout)           (None, 8)                 0         \n",
      "                                                                 \n",
      " dense (Dense)               (None, 1)                 9         \n",
      "                                                                 \n",
      "=================================================================\n",
      "Total params: 1017 (3.97 KB)\n",
      "Trainable params: 1017 (3.97 KB)\n",
      "Non-trainable params: 0 (0.00 Byte)\n",
      "_________________________________________________________________\n"
     ]
    }
   ],
   "source": [
    "inputs = keras.Input(shape=(sequence_length, raw_data.shape[-1]))\n",
    "x = layers.GRU(8, recurrent_dropout=0.5, return_sequences=True)(inputs)\n",
    "x = layers.GRU(8, recurrent_dropout=0.5)(x)\n",
    "x = layers.Dropout(0.5)(x)\n",
    "outputs = layers.Dense(1)(x)\n",
    "stacked_rnn_gru_model = keras.Model(inputs, outputs)\n",
    "\n",
    "stacked_rnn_gru_model.summary()"
   ]
  },
  {
   "cell_type": "code",
   "execution_count": 15,
   "id": "6ed75def-3aab-4eff-a752-f77320d37f23",
   "metadata": {},
   "outputs": [
    {
     "name": "stdout",
     "output_type": "stream",
     "text": [
      "Epoch 1/50\n"
     ]
    },
    {
     "name": "stderr",
     "output_type": "stream",
     "text": [
      "2023-12-05 19:16:28.985712: I external/local_xla/xla/service/service.cc:168] XLA service 0x7f241a13f860 initialized for platform CUDA (this does not guarantee that XLA will be used). Devices:\n",
      "2023-12-05 19:16:28.985727: I external/local_xla/xla/service/service.cc:176]   StreamExecutor device (0): NVIDIA GeForce RTX 3090, Compute Capability 8.6\n",
      "2023-12-05 19:16:28.988965: I tensorflow/compiler/mlir/tensorflow/utils/dump_mlir_util.cc:269] disabling MLIR crash reproducer, set env var `MLIR_CRASH_REPRODUCER_DIRECTORY` to enable.\n",
      "2023-12-05 19:16:29.280354: I external/local_xla/xla/stream_executor/cuda/cuda_dnn.cc:454] Loaded cuDNN version 8904\n",
      "WARNING: All log messages before absl::InitializeLog() is called are written to STDERR\n",
      "I0000 00:00:1701814589.316111   43120 device_compiler.h:186] Compiled cluster using XLA!  This line is logged at most once for the lifetime of the process.\n"
     ]
    },
    {
     "name": "stdout",
     "output_type": "stream",
     "text": [
      "410/410 [==============================] - 59s 136ms/step - loss: 83.5410 - mae: 7.2026 - val_loss: 55.2804 - val_mae: 5.6517\n",
      "Epoch 2/50\n",
      "410/410 [==============================] - 56s 136ms/step - loss: 49.4319 - mae: 5.2674 - val_loss: 35.1718 - val_mae: 4.3617\n",
      "Epoch 3/50\n",
      "410/410 [==============================] - 56s 135ms/step - loss: 37.5395 - mae: 4.5481 - val_loss: 25.0079 - val_mae: 3.6392\n",
      "Epoch 4/50\n",
      "410/410 [==============================] - 56s 135ms/step - loss: 31.5591 - mae: 4.1719 - val_loss: 19.4717 - val_mae: 3.2180\n",
      "Epoch 5/50\n",
      "410/410 [==============================] - 56s 136ms/step - loss: 28.3597 - mae: 3.9699 - val_loss: 16.4315 - val_mae: 2.9847\n",
      "Epoch 6/50\n",
      "410/410 [==============================] - 56s 136ms/step - loss: 26.3016 - mae: 3.8401 - val_loss: 14.4289 - val_mae: 2.8266\n",
      "Epoch 7/50\n",
      "410/410 [==============================] - 56s 136ms/step - loss: 25.1641 - mae: 3.7592 - val_loss: 13.3212 - val_mae: 2.7498\n",
      "Epoch 8/50\n",
      "410/410 [==============================] - 56s 136ms/step - loss: 24.2845 - mae: 3.7030 - val_loss: 12.3192 - val_mae: 2.6636\n",
      "Epoch 9/50\n",
      "410/410 [==============================] - 56s 137ms/step - loss: 23.2724 - mae: 3.6363 - val_loss: 12.0420 - val_mae: 2.6542\n",
      "Epoch 10/50\n",
      "410/410 [==============================] - 57s 138ms/step - loss: 22.5942 - mae: 3.5834 - val_loss: 11.2452 - val_mae: 2.5706\n",
      "Epoch 11/50\n",
      "410/410 [==============================] - 56s 136ms/step - loss: 22.1225 - mae: 3.5496 - val_loss: 10.9792 - val_mae: 2.5466\n",
      "Epoch 12/50\n",
      "410/410 [==============================] - 56s 136ms/step - loss: 21.5774 - mae: 3.5105 - val_loss: 10.7317 - val_mae: 2.5243\n",
      "Epoch 13/50\n",
      "410/410 [==============================] - 56s 136ms/step - loss: 21.0751 - mae: 3.4704 - val_loss: 10.3502 - val_mae: 2.4837\n",
      "Epoch 14/50\n",
      "410/410 [==============================] - 56s 136ms/step - loss: 20.6412 - mae: 3.4371 - val_loss: 10.2151 - val_mae: 2.4727\n",
      "Epoch 15/50\n",
      "410/410 [==============================] - 56s 136ms/step - loss: 20.2022 - mae: 3.4020 - val_loss: 10.0231 - val_mae: 2.4498\n",
      "Epoch 16/50\n",
      "410/410 [==============================] - 56s 136ms/step - loss: 19.6822 - mae: 3.3646 - val_loss: 10.1950 - val_mae: 2.4816\n",
      "Epoch 17/50\n",
      "410/410 [==============================] - 56s 137ms/step - loss: 19.5414 - mae: 3.3524 - val_loss: 9.7034 - val_mae: 2.4129\n",
      "Epoch 18/50\n",
      "410/410 [==============================] - 56s 136ms/step - loss: 19.0534 - mae: 3.3170 - val_loss: 9.7347 - val_mae: 2.4207\n",
      "Epoch 19/50\n",
      "410/410 [==============================] - 56s 137ms/step - loss: 18.6955 - mae: 3.2868 - val_loss: 9.4405 - val_mae: 2.3817\n",
      "Epoch 20/50\n",
      "410/410 [==============================] - 56s 136ms/step - loss: 18.3433 - mae: 3.2558 - val_loss: 9.4008 - val_mae: 2.3769\n",
      "Epoch 21/50\n",
      "410/410 [==============================] - 56s 137ms/step - loss: 18.0941 - mae: 3.2382 - val_loss: 9.5049 - val_mae: 2.3938\n",
      "Epoch 22/50\n",
      "410/410 [==============================] - 56s 137ms/step - loss: 17.8261 - mae: 3.2171 - val_loss: 9.8059 - val_mae: 2.4370\n",
      "Epoch 23/50\n",
      "410/410 [==============================] - 56s 136ms/step - loss: 17.7561 - mae: 3.2106 - val_loss: 9.8220 - val_mae: 2.4382\n",
      "Epoch 24/50\n",
      "410/410 [==============================] - 56s 137ms/step - loss: 17.3946 - mae: 3.1812 - val_loss: 9.2211 - val_mae: 2.3579\n",
      "Epoch 25/50\n",
      "410/410 [==============================] - 57s 137ms/step - loss: 17.2487 - mae: 3.1679 - val_loss: 9.4766 - val_mae: 2.3957\n",
      "Epoch 26/50\n",
      "410/410 [==============================] - 56s 137ms/step - loss: 17.0107 - mae: 3.1499 - val_loss: 8.9422 - val_mae: 2.3148\n",
      "Epoch 27/50\n",
      "410/410 [==============================] - 56s 137ms/step - loss: 16.9686 - mae: 3.1433 - val_loss: 9.6774 - val_mae: 2.4188\n",
      "Epoch 28/50\n",
      "410/410 [==============================] - 57s 138ms/step - loss: 16.9159 - mae: 3.1366 - val_loss: 9.1392 - val_mae: 2.3493\n",
      "Epoch 29/50\n",
      "410/410 [==============================] - 56s 137ms/step - loss: 16.9168 - mae: 3.1367 - val_loss: 9.0497 - val_mae: 2.3407\n",
      "Epoch 30/50\n",
      "410/410 [==============================] - 56s 136ms/step - loss: 16.6895 - mae: 3.1197 - val_loss: 9.5416 - val_mae: 2.4051\n",
      "Epoch 31/50\n",
      "410/410 [==============================] - 56s 136ms/step - loss: 16.6640 - mae: 3.1194 - val_loss: 8.8583 - val_mae: 2.3109\n",
      "Epoch 32/50\n",
      "410/410 [==============================] - 56s 137ms/step - loss: 16.5862 - mae: 3.1128 - val_loss: 8.8928 - val_mae: 2.3138\n",
      "Epoch 33/50\n",
      "410/410 [==============================] - 56s 137ms/step - loss: 16.4504 - mae: 3.0993 - val_loss: 8.9816 - val_mae: 2.3318\n",
      "Epoch 34/50\n",
      "410/410 [==============================] - 56s 137ms/step - loss: 16.5005 - mae: 3.1039 - val_loss: 9.2222 - val_mae: 2.3684\n",
      "Epoch 35/50\n",
      "410/410 [==============================] - 57s 138ms/step - loss: 16.5122 - mae: 3.1016 - val_loss: 8.9480 - val_mae: 2.3282\n",
      "Epoch 36/50\n",
      "410/410 [==============================] - 56s 137ms/step - loss: 16.4431 - mae: 3.0979 - val_loss: 9.3890 - val_mae: 2.3902\n",
      "Epoch 37/50\n",
      "410/410 [==============================] - 56s 136ms/step - loss: 16.4554 - mae: 3.0994 - val_loss: 8.9247 - val_mae: 2.3210\n",
      "Epoch 38/50\n",
      "410/410 [==============================] - 57s 138ms/step - loss: 16.4025 - mae: 3.0908 - val_loss: 9.0609 - val_mae: 2.3428\n",
      "Epoch 39/50\n",
      "410/410 [==============================] - 56s 137ms/step - loss: 16.4080 - mae: 3.0924 - val_loss: 9.0910 - val_mae: 2.3439\n",
      "Epoch 40/50\n",
      "410/410 [==============================] - 56s 136ms/step - loss: 16.4453 - mae: 3.0928 - val_loss: 8.9890 - val_mae: 2.3333\n",
      "Epoch 41/50\n",
      "410/410 [==============================] - 56s 136ms/step - loss: 16.3588 - mae: 3.0875 - val_loss: 9.0912 - val_mae: 2.3456\n",
      "203/203 [==============================] - 6s 29ms/step - loss: 10.3461 - mae: 2.5062\n",
      "Test MAE: 2.51\n"
     ]
    }
   ],
   "source": [
    "stacked_rnn_gru_model.compile(optimizer=\"adam\", loss=\"mse\", metrics=[\"mae\"])\n",
    "early_stopping = EarlyStopping(monitor='val_loss', patience=10, restore_best_weights=True)\n",
    "\n",
    "history = stacked_rnn_gru_model.fit(\n",
    "    train_dataset,\n",
    "    epochs=50,\n",
    "    validation_data=val_dataset,\n",
    "    callbacks=[early_stopping],\n",
    ")\n",
    "print(f\"Test MAE: {stacked_rnn_gru_model.evaluate(test_dataset)[1]:.2f}\")"
   ]
  },
  {
   "cell_type": "code",
   "execution_count": 16,
   "id": "f40b5318-a5ff-4310-83cb-ba87c2aeb58f",
   "metadata": {},
   "outputs": [
    {
     "name": "stderr",
     "output_type": "stream",
     "text": [
      "/home/alunos/.asdf/installs/python/3.11.4/lib/python3.11/site-packages/keras/src/engine/training.py:3103: UserWarning: You are saving your model as an HDF5 file via `model.save()`. This file format is considered legacy. We recommend using instead the native Keras format, e.g. `model.save('my_model.keras')`.\n",
      "  saving_api.save_model(\n"
     ]
    }
   ],
   "source": [
    "stacked_rnn_gru_model.save('./models/stacked_rnn_gru_model.h5')"
   ]
  },
  {
   "cell_type": "code",
   "execution_count": 17,
   "id": "675edd44-f557-4bbe-9a54-b554073194e8",
   "metadata": {},
   "outputs": [
    {
     "data": {
      "image/png": "[encoded data removed]",
      "text/plain": [
       "<Figure size 640x480 with 1 Axes>"
      ]
     },
     "metadata": {},
     "output_type": "display_data"
    }
   ],
   "source": [
    "loss = history.history[\"mae\"]\n",
    "val_loss = history.history[\"val_mae\"]\n",
    "epochs = range(1, len(loss) + 1)\n",
    "plt.figure()\n",
    "plt.plot(epochs, loss, \"bo\", label=\"Training MAE\")\n",
    "plt.plot(epochs, val_loss, \"b\", label=\"Validation MAE\")\n",
    "plt.title(\"Training and validation MAE\")\n",
    "plt.legend()\n",
    "plt.show()"
   ]
  },
  {
   "cell_type": "markdown",
   "id": "LFflDfUVSSX4",
   "metadata": {
    "id": "LFflDfUVSSX4"
   },
   "source": [
    "## Transformer"
   ]
  },
  {
   "cell_type": "code",
   "execution_count": 60,
   "id": "-PiHQQSjSSX5",
   "metadata": {
    "colab": {
     "base_uri": "https://localhost:8080/"
    },
    "id": "-PiHQQSjSSX5",
    "outputId": "67c9ffac-bd80-4539-f234-5f9ed0d9be7f"
   },
   "outputs": [
    {
     "name": "stdout",
     "output_type": "stream",
     "text": [
      "Model: \"model_12\"\n",
      "__________________________________________________________________________________________________\n",
      " Layer (type)                Output Shape                 Param #   Connected to                  \n",
      "==================================================================================================\n",
      " input_13 (InputLayer)       [(None, 120, 14)]            0         []                            \n",
      "                                                                                                  \n",
      " dense_12 (Dense)            (None, 120, 16)              240       ['input_13[0][0]']            \n",
      "                                                                                                  \n",
      " tf.__operators__.add_12 (T  (None, 120, 16)              0         ['dense_12[0][0]']            \n",
      " FOpLambda)                                                                                       \n",
      "                                                                                                  \n",
      " multi_head_attention (Mult  (None, 120, 16)              2160      ['tf.__operators__.add_12[0][0\n",
      " iHeadAttention)                                                    ]',                           \n",
      "                                                                     'tf.__operators__.add_12[0][0\n",
      "                                                                    ]']                           \n",
      "                                                                                                  \n",
      " conv1d_1 (Conv1D)           (None, 120, 16)              272       ['multi_head_attention[0][0]']\n",
      "                                                                                                  \n",
      " dropout_8 (Dropout)         (None, 120, 16)              0         ['conv1d_1[0][0]']            \n",
      "                                                                                                  \n",
      " tf.__operators__.getitem_1  (None, 120)                  0         ['input_13[0][0]']            \n",
      " 8 (SlicingOpLambda)                                                                              \n",
      "                                                                                                  \n",
      " tf.__operators__.getitem_2  (None, 120, 14)              0         ['input_13[0][0]']            \n",
      " 0 (SlicingOpLambda)                                                                              \n",
      "                                                                                                  \n",
      " layer_normalization (Layer  (None, 120, 16)              32        ['dropout_8[0][0]']           \n",
      " Normalization)                                                                                   \n",
      "                                                                                                  \n",
      " tf.math.multiply_12 (TFOpL  (None, 120)                  0         ['tf.__operators__.getitem_18[\n",
      " ambda)                                                             0][0]']                       \n",
      "                                                                                                  \n",
      " tf.math.multiply_13 (TFOpL  (None, 120, 14)              0         ['tf.__operators__.getitem_20[\n",
      " ambda)                                                             0][0]']                       \n",
      "                                                                                                  \n",
      " tf.__operators__.add_13 (T  (None, 120, 16)              0         ['layer_normalization[0][0]', \n",
      " FOpLambda)                                                          'tf.__operators__.add_12[0][0\n",
      "                                                                    ]']                           \n",
      "                                                                                                  \n",
      " tf.__operators__.add_14 (T  (None, 120)                  0         ['tf.math.multiply_12[0][0]'] \n",
      " FOpLambda)                                                                                       \n",
      "                                                                                                  \n",
      " tf.__operators__.add_15 (T  (None, 120, 14)              0         ['tf.math.multiply_13[0][0]'] \n",
      " FOpLambda)                                                                                       \n",
      "                                                                                                  \n",
      " global_average_pooling1d_5  (None, 16)                   0         ['tf.__operators__.add_13[0][0\n",
      "  (GlobalAveragePooling1D)                                          ]']                           \n",
      "                                                                                                  \n",
      " reshape_8 (Reshape)         (None, 120, 1)               0         ['tf.__operators__.add_14[0][0\n",
      "                                                                    ]']                           \n",
      "                                                                                                  \n",
      " global_average_pooling1d_6  (None, 14)                   0         ['tf.__operators__.add_15[0][0\n",
      "  (GlobalAveragePooling1D)                                          ]']                           \n",
      "                                                                                                  \n",
      " dense_13 (Dense)            (None, 8)                    136       ['global_average_pooling1d_5[0\n",
      "                                                                    ][0]']                        \n",
      "                                                                                                  \n",
      " tf.__operators__.getitem_1  (None, 1)                    0         ['reshape_8[0][0]']           \n",
      " 9 (SlicingOpLambda)                                                                              \n",
      "                                                                                                  \n",
      " flatten_4 (Flatten)         (None, 14)                   0         ['global_average_pooling1d_6[0\n",
      "                                                                    ][0]']                        \n",
      "                                                                                                  \n",
      " concatenate_4 (Concatenate  (None, 23)                   0         ['dense_13[0][0]',            \n",
      " )                                                                   'tf.__operators__.getitem_19[\n",
      "                                                                    0][0]',                       \n",
      "                                                                     'flatten_4[0][0]']           \n",
      "                                                                                                  \n",
      " dense_14 (Dense)            (None, 4)                    96        ['concatenate_4[0][0]']       \n",
      "                                                                                                  \n",
      " dropout_9 (Dropout)         (None, 4)                    0         ['dense_14[0][0]']            \n",
      "                                                                                                  \n",
      " layer_normalization_1 (Lay  (None, 4)                    8         ['dropout_9[0][0]']           \n",
      " erNormalization)                                                                                 \n",
      "                                                                                                  \n",
      " concatenate_5 (Concatenate  (None, 19)                   0         ['layer_normalization_1[0][0]'\n",
      " )                                                                  , 'tf.__operators__.getitem_19\n",
      "                                                                    [0][0]',                      \n",
      "                                                                     'flatten_4[0][0]']           \n",
      "                                                                                                  \n",
      " dense_15 (Dense)            (None, 1)                    20        ['concatenate_5[0][0]']       \n",
      "                                                                                                  \n",
      "==================================================================================================\n",
      "Total params: 2964 (11.58 KB)\n",
      "Trainable params: 2964 (11.58 KB)\n",
      "Non-trainable params: 0 (0.00 Byte)\n",
      "__________________________________________________________________________________________________\n"
     ]
    }
   ],
   "source": [
    "import keras\n",
    "from keras import layers\n",
    "\n",
    "def create_transformer_model(d_model=16, num_heads=2, dropout=1/3):\n",
    "    inputs = keras.Input(shape=(sequence_length, raw_data.shape[-1]))\n",
    "\n",
    "    embedding_layer = layers.Embedding(sequence_length, d_model)\n",
    "    embedding_indices = tf.range(sequence_length)\n",
    "    embedding = embedding_layer(embedding_indices)\n",
    "    x1 = layers.Dense(d_model)(inputs)\n",
    "    x1 = x1 + embedding\n",
    "\n",
    "    x2 = layers.MultiHeadAttention(key_dim=d_model, num_heads=num_heads, dropout=dropout)(x1, x1)\n",
    "    x2 = layers.Conv1D(filters=d_model, kernel_size=1, activation=\"relu\")(x2)\n",
    "    x2 = layers.Dropout(dropout)(x2)\n",
    "    x2 = layers.LayerNormalization()(x2)\n",
    "    x2 = x2 + x1\n",
    "    x2 = layers.GlobalAveragePooling1D()(x2)\n",
    "    x2 = layers.Dense(8, activation=\"relu\")(x2)\n",
    "\n",
    "    temps = inputs[:, :, 1] * std[1] + mean[1]\n",
    "    temps = layers.Reshape(temps.shape[1:] + (1,))(temps)\n",
    "\n",
    "    naive_est = temps[:, -1, :]\n",
    "\n",
    "    mean_est = inputs[:, :, :] * std[1] + mean[1]\n",
    "    mean_est = layers.GlobalAveragePooling1D()(mean_est)\n",
    "    mean_est = layers.Flatten()(mean_est)\n",
    "\n",
    "    x3 = layers.Concatenate()([x2, naive_est, mean_est])\n",
    "    x3 = layers.Dense(4, activation=\"relu\")(x3)\n",
    "    x3 = layers.Dropout(dropout)(x3)\n",
    "    x3 = layers.LayerNormalization()(x3)\n",
    "    x3 = layers.Concatenate()([x3, naive_est, mean_est])\n",
    "    x3 = layers.Dense(1)(x3)\n",
    "\n",
    "    outputs = x3\n",
    "\n",
    "    model = tf.keras.Model(inputs=inputs, outputs=outputs)\n",
    "\n",
    "    return model\n",
    "\n",
    "transformer_model = create_transformer_model()\n",
    "transformer_model.summary()"
   ]
  },
  {
   "cell_type": "code",
   "execution_count": 61,
   "id": "OYRZqgeNSSX6",
   "metadata": {
    "colab": {
     "base_uri": "https://localhost:8080/"
    },
    "id": "OYRZqgeNSSX6",
    "outputId": "9ce7a8ae-fcf6-4f76-a586-845782719d3d"
   },
   "outputs": [
    {
     "name": "stdout",
     "output_type": "stream",
     "text": [
      "Epoch 1/25\n",
      "410/410 [==============================] - 8s 14ms/step - loss: 54.3900 - mae: 5.6642 - val_loss: 25.9983 - val_mae: 4.0067\n",
      "Epoch 2/25\n",
      "410/410 [==============================] - 5s 13ms/step - loss: 23.4260 - mae: 3.8458 - val_loss: 16.8277 - val_mae: 3.2369\n",
      "Epoch 3/25\n",
      "410/410 [==============================] - 5s 13ms/step - loss: 17.2729 - mae: 3.3081 - val_loss: 13.5974 - val_mae: 2.9205\n",
      "Epoch 4/25\n",
      "410/410 [==============================] - 5s 13ms/step - loss: 14.5883 - mae: 3.0413 - val_loss: 12.1327 - val_mae: 2.7493\n",
      "Epoch 5/25\n",
      "410/410 [==============================] - 5s 13ms/step - loss: 13.2432 - mae: 2.8911 - val_loss: 11.2287 - val_mae: 2.6416\n",
      "Epoch 6/25\n",
      "410/410 [==============================] - 5s 13ms/step - loss: 12.4090 - mae: 2.7961 - val_loss: 10.5675 - val_mae: 2.5475\n",
      "Epoch 7/25\n",
      "410/410 [==============================] - 5s 13ms/step - loss: 11.8720 - mae: 2.7288 - val_loss: 10.1589 - val_mae: 2.4957\n",
      "Epoch 8/25\n",
      "410/410 [==============================] - 5s 13ms/step - loss: 11.4896 - mae: 2.6794 - val_loss: 9.8723 - val_mae: 2.4545\n",
      "Epoch 9/25\n",
      "410/410 [==============================] - 5s 13ms/step - loss: 11.2771 - mae: 2.6484 - val_loss: 9.7921 - val_mae: 2.4457\n",
      "Epoch 10/25\n",
      "410/410 [==============================] - 5s 13ms/step - loss: 11.1165 - mae: 2.6241 - val_loss: 9.5794 - val_mae: 2.4227\n",
      "Epoch 11/25\n",
      "410/410 [==============================] - 5s 13ms/step - loss: 11.0474 - mae: 2.6132 - val_loss: 9.5075 - val_mae: 2.4071\n",
      "Epoch 12/25\n",
      "410/410 [==============================] - 5s 13ms/step - loss: 10.9884 - mae: 2.6056 - val_loss: 9.4327 - val_mae: 2.4013\n",
      "Epoch 13/25\n",
      "410/410 [==============================] - 5s 13ms/step - loss: 10.9807 - mae: 2.6032 - val_loss: 9.4541 - val_mae: 2.4000\n",
      "Epoch 14/25\n",
      "410/410 [==============================] - 5s 13ms/step - loss: 10.9985 - mae: 2.6053 - val_loss: 9.4726 - val_mae: 2.4034\n",
      "Epoch 15/25\n",
      "410/410 [==============================] - 5s 12ms/step - loss: 10.9478 - mae: 2.5980 - val_loss: 9.4212 - val_mae: 2.3940\n",
      "Epoch 16/25\n",
      "410/410 [==============================] - 5s 13ms/step - loss: 10.9543 - mae: 2.5977 - val_loss: 9.3492 - val_mae: 2.3836\n",
      "Epoch 17/25\n",
      "410/410 [==============================] - 5s 13ms/step - loss: 10.9388 - mae: 2.5950 - val_loss: 9.4109 - val_mae: 2.3921\n",
      "Epoch 18/25\n",
      "410/410 [==============================] - 5s 13ms/step - loss: 10.9265 - mae: 2.5951 - val_loss: 9.4413 - val_mae: 2.3996\n",
      "Epoch 19/25\n",
      "410/410 [==============================] - 5s 13ms/step - loss: 10.9676 - mae: 2.5999 - val_loss: 9.4608 - val_mae: 2.4031\n",
      "Epoch 20/25\n",
      "410/410 [==============================] - 5s 13ms/step - loss: 10.9430 - mae: 2.5958 - val_loss: 9.4410 - val_mae: 2.4030\n",
      "Epoch 21/25\n",
      "410/410 [==============================] - 5s 13ms/step - loss: 10.9314 - mae: 2.5944 - val_loss: 9.4622 - val_mae: 2.3997\n",
      "203/203 [==============================] - 1s 6ms/step - loss: 10.8161 - mae: 2.5722\n",
      "Test MAE: 2.57\n"
     ]
    }
   ],
   "source": [
    "transformer_model.compile(optimizer='adam', loss=\"mse\", metrics=['mae'])\n",
    "early_stopping = EarlyStopping(monitor='val_loss', patience=5, restore_best_weights=True)\n",
    "\n",
    "with tf.device(\"GPU:0\"):\n",
    "    transformer_history = transformer_model.fit(\n",
    "        train_dataset,\n",
    "        epochs=25,\n",
    "        validation_data=val_dataset,\n",
    "        callbacks=[early_stopping],\n",
    "    )\n",
    "\n",
    "print(f\"Test MAE: {transformer_model.evaluate(test_dataset)[1]:.2f}\")"
   ]
  },
  {
   "cell_type": "code",
   "execution_count": 62,
   "id": "7da204b3-8931-4bdd-8fc3-e8e277faf098",
   "metadata": {},
   "outputs": [],
   "source": [
    "transformer_model.save('./models/transformer_model.h5')"
   ]
  },
  {
   "cell_type": "code",
   "execution_count": 63,
   "id": "SSjMdHeZSSX6",
   "metadata": {
    "colab": {
     "base_uri": "https://localhost:8080/",
     "height": 254
    },
    "id": "SSjMdHeZSSX6",
    "outputId": "a3a2a199-9046-49b6-e716-7c4823e80af8"
   },
   "outputs": [
    {
     "data": {
      "image/png": "[encoded data removed]",
      "text/plain": [
       "<Figure size 640x480 with 1 Axes>"
      ]
     },
     "metadata": {},
     "output_type": "display_data"
    }
   ],
   "source": [
    "import matplotlib.pyplot as plt\n",
    "\n",
    "loss = transformer_history.history[\"mae\"]\n",
    "val_loss = transformer_history.history[\"val_mae\"]\n",
    "epochs = range(1, len(loss) + 1)\n",
    "plt.figure()\n",
    "plt.plot(epochs, loss, \"bo\", label=\"Training MAE\")\n",
    "plt.plot(epochs, val_loss, \"b\", label=\"Validation MAE\")\n",
    "plt.title(\"Training and validation MAE\")\n",
    "plt.legend()\n",
    "plt.show()"
   ]
  }
 ],
 "metadata": {
  "accelerator": "GPU",
  "colab": {
   "collapsed_sections": [
    "dc28e885-325e-43d6-a24d-09acebf72234",
    "58330182-e029-40b8-88ca-acc21b23b732",
    "93f678b8-72ab-4d1c-98d0-b19b4fa09774",
    "2f6f3ed6-5b23-4c63-b425-c0bee72558b4",
    "18f8d50d-fcff-42ab-be60-5041d3a5a2b4",
    "1eb3dcf7-37d1-4e16-b3a3-6f3e776dc476",
    "8a981e2c-ca9e-470d-983f-041d0696f64a",
    "82c9c914-c4eb-4cb6-b9dd-8b0be2828eb8",
    "82c8de33-0a2c-42c1-8f70-cc8c9763bdbc"
   ],
   "gpuType": "T4",
   "provenance": []
  },
  "kernelspec": {
   "display_name": "Python 3 (ipykernel)",
   "language": "python",
   "name": "python3"
  },
  "language_info": {
   "codemirror_mode": {
    "name": "ipython",
    "version": 3
   },
   "file_extension": ".py",
   "mimetype": "text/x-python",
   "name": "python",
   "nbconvert_exporter": "python",
   "pygments_lexer": "ipython3",
   "version": "3.11.4"
  }
 },
 "nbformat": 4,
 "nbformat_minor": 5
}
